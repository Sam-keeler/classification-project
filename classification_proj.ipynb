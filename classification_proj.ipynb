{
 "cells": [
  {
   "cell_type": "markdown",
   "metadata": {},
   "source": [
    "## Importing packages"
   ]
  },
  {
   "cell_type": "code",
   "execution_count": 2,
   "metadata": {},
   "outputs": [],
   "source": [
    "import matplotlib.pyplot as plt\n",
    "import numpy as np\n",
    "import pandas as pd\n",
    "from scipy import stats\n",
    "from datetime import date\n",
    "import seaborn as sns\n",
    "from pydataset import data\n",
    "from env import host, user, password\n",
    "from sklearn.model_selection import train_test_split\n",
    "from sklearn.tree import DecisionTreeClassifier\n",
    "from sklearn.ensemble import RandomForestClassifier\n",
    "from sklearn.neighbors import KNeighborsClassifier\n",
    "from sklearn.linear_model import LogisticRegression\n",
    "from sklearn.metrics import classification_report\n",
    "from sklearn.metrics import confusion_matrix\n",
    "import explore"
   ]
  },
  {
   "cell_type": "markdown",
   "metadata": {},
   "source": [
    "## Data Dictionary "
   ]
  },
  {
   "cell_type": "code",
   "execution_count": 3,
   "metadata": {},
   "outputs": [
    {
     "data": {
      "text/html": [
       "<div>\n",
       "<style scoped>\n",
       "    .dataframe tbody tr th:only-of-type {\n",
       "        vertical-align: middle;\n",
       "    }\n",
       "\n",
       "    .dataframe tbody tr th {\n",
       "        vertical-align: top;\n",
       "    }\n",
       "\n",
       "    .dataframe thead th {\n",
       "        text-align: right;\n",
       "    }\n",
       "</style>\n",
       "<table border=\"1\" class=\"dataframe\">\n",
       "  <thead>\n",
       "    <tr style=\"text-align: right;\">\n",
       "      <th></th>\n",
       "      <th>Unnamed: 0</th>\n",
       "      <th>type</th>\n",
       "      <th>description</th>\n",
       "    </tr>\n",
       "  </thead>\n",
       "  <tbody>\n",
       "    <tr>\n",
       "      <th>0</th>\n",
       "      <td>customer_id</td>\n",
       "      <td>object</td>\n",
       "      <td>The customers unique ID</td>\n",
       "    </tr>\n",
       "    <tr>\n",
       "      <th>1</th>\n",
       "      <td>is_female</td>\n",
       "      <td>int64</td>\n",
       "      <td>The customers gender</td>\n",
       "    </tr>\n",
       "    <tr>\n",
       "      <th>2</th>\n",
       "      <td>senior_citizen</td>\n",
       "      <td>int64</td>\n",
       "      <td>Whethe or not the customer falls under the description \"senior citizen\"</td>\n",
       "    </tr>\n",
       "    <tr>\n",
       "      <th>3</th>\n",
       "      <td>fam_status</td>\n",
       "      <td>object</td>\n",
       "      <td>Whether or not the customer is partnered or has children</td>\n",
       "    </tr>\n",
       "    <tr>\n",
       "      <th>4</th>\n",
       "      <td>tenure</td>\n",
       "      <td>int64</td>\n",
       "      <td>How many months the customer has been with Telco</td>\n",
       "    </tr>\n",
       "    <tr>\n",
       "      <th>5</th>\n",
       "      <td>phone_lines</td>\n",
       "      <td>object</td>\n",
       "      <td>How many phone lines the customer has</td>\n",
       "    </tr>\n",
       "    <tr>\n",
       "      <th>6</th>\n",
       "      <td>online_services</td>\n",
       "      <td>object</td>\n",
       "      <td>Whether or not the customer has online backup or security</td>\n",
       "    </tr>\n",
       "    <tr>\n",
       "      <th>7</th>\n",
       "      <td>tech_support</td>\n",
       "      <td>object</td>\n",
       "      <td>Whether or no the customer has tech support</td>\n",
       "    </tr>\n",
       "    <tr>\n",
       "      <th>8</th>\n",
       "      <td>streaming</td>\n",
       "      <td>object</td>\n",
       "      <td>Whether or not the customer streams movies or tv</td>\n",
       "    </tr>\n",
       "    <tr>\n",
       "      <th>9</th>\n",
       "      <td>contract_type_id</td>\n",
       "      <td>int64</td>\n",
       "      <td>How the customer is signed up for billing</td>\n",
       "    </tr>\n",
       "    <tr>\n",
       "      <th>10</th>\n",
       "      <td>paperless_billing</td>\n",
       "      <td>int64</td>\n",
       "      <td>Whether the customer is mailed bills or not</td>\n",
       "    </tr>\n",
       "    <tr>\n",
       "      <th>11</th>\n",
       "      <td>payment_type_id</td>\n",
       "      <td>int64</td>\n",
       "      <td>How the customer pays their bill</td>\n",
       "    </tr>\n",
       "    <tr>\n",
       "      <th>12</th>\n",
       "      <td>monthly_charges</td>\n",
       "      <td>float64</td>\n",
       "      <td>How much the customer is charged per month</td>\n",
       "    </tr>\n",
       "    <tr>\n",
       "      <th>13</th>\n",
       "      <td>total_charges</td>\n",
       "      <td>float64</td>\n",
       "      <td>Total charges during the customers time with Telco</td>\n",
       "    </tr>\n",
       "    <tr>\n",
       "      <th>14</th>\n",
       "      <td>churn</td>\n",
       "      <td>int64</td>\n",
       "      <td>Whether the customer is still with Telco or not</td>\n",
       "    </tr>\n",
       "    <tr>\n",
       "      <th>15</th>\n",
       "      <td>internet_service_type</td>\n",
       "      <td>object</td>\n",
       "      <td>Whether the customer has Fiber, DSL, or no internet</td>\n",
       "    </tr>\n",
       "    <tr>\n",
       "      <th>16</th>\n",
       "      <td>years_held</td>\n",
       "      <td>float64</td>\n",
       "      <td>Years the customer has been with Telco</td>\n",
       "    </tr>\n",
       "  </tbody>\n",
       "</table>\n",
       "</div>"
      ],
      "text/plain": [
       "               Unnamed: 0     type  \\\n",
       "0             customer_id   object   \n",
       "1               is_female    int64   \n",
       "2          senior_citizen    int64   \n",
       "3              fam_status   object   \n",
       "4                  tenure    int64   \n",
       "5             phone_lines   object   \n",
       "6         online_services   object   \n",
       "7            tech_support   object   \n",
       "8               streaming   object   \n",
       "9        contract_type_id    int64   \n",
       "10      paperless_billing    int64   \n",
       "11        payment_type_id    int64   \n",
       "12        monthly_charges  float64   \n",
       "13          total_charges  float64   \n",
       "14                  churn    int64   \n",
       "15  internet_service_type   object   \n",
       "16             years_held  float64   \n",
       "\n",
       "                                                                description  \n",
       "0                                                   The customers unique ID  \n",
       "1                                                      The customers gender  \n",
       "2   Whethe or not the customer falls under the description \"senior citizen\"  \n",
       "3                  Whether or not the customer is partnered or has children  \n",
       "4                          How many months the customer has been with Telco  \n",
       "5                                     How many phone lines the customer has  \n",
       "6                 Whether or not the customer has online backup or security  \n",
       "7                               Whether or no the customer has tech support  \n",
       "8                          Whether or not the customer streams movies or tv  \n",
       "9                                 How the customer is signed up for billing  \n",
       "10                              Whether the customer is mailed bills or not  \n",
       "11                                         How the customer pays their bill  \n",
       "12                               How much the customer is charged per month  \n",
       "13                       Total charges during the customers time with Telco  \n",
       "14                          Whether the customer is still with Telco or not  \n",
       "15                      Whether the customer has Fiber, DSL, or no internet  \n",
       "16                                   Years the customer has been with Telco  "
      ]
     },
     "execution_count": 3,
     "metadata": {},
     "output_type": "execute_result"
    }
   ],
   "source": [
    "# pulling data dictionary so we know what we're looking at\n",
    "\n",
    "pd.read_csv(\"data_dictionary.csv\")"
   ]
  },
  {
   "cell_type": "markdown",
   "metadata": {},
   "source": [
    "## Acquiring data"
   ]
  },
  {
   "cell_type": "code",
   "execution_count": 4,
   "metadata": {},
   "outputs": [],
   "source": [
    "# function to pull data\n",
    "\n",
    "def get_telco_data(host = host, user = user, password = password):\n",
    "    db = 'telco_churn'\n",
    "    return pd.read_sql('SELECT * FROM customers JOIN internet_service_types ON (customers.internet_service_type_id = internet_service_types.internet_service_type_id)', f'mysql+pymysql://{user}:{password}@{host}/{db}')"
   ]
  },
  {
   "cell_type": "code",
   "execution_count": 5,
   "metadata": {
    "scrolled": false
   },
   "outputs": [],
   "source": [
    "# pulling the data\n",
    "\n",
    "telco = get_telco_data()"
   ]
  },
  {
   "cell_type": "markdown",
   "metadata": {},
   "source": [
    "## Cleaning and tidying"
   ]
  },
  {
   "cell_type": "code",
   "execution_count": 6,
   "metadata": {},
   "outputs": [],
   "source": [
    "# function to clean data\n",
    "\n",
    "def clean_telco(telco):\n",
    "    telco.loc[(telco.phone_service == 'Yes') & (telco.multiple_lines == 'Yes'), 'phone_service'] = 'Multiple'\n",
    "    telco.loc[(telco.phone_service == 'Yes') & (telco.multiple_lines == 'No'), 'phone_service'] = 'One'\n",
    "    telco.loc[(telco.phone_service == 'No') & (telco.multiple_lines == 'No phone service'), 'phone_service'] = 'None'\n",
    "    telco.loc[(telco.partner == 'No') & (telco.dependents == 'Yes'), 'partner'] = 'single family'\n",
    "    telco.loc[(telco.partner == 'Yes') & (telco.dependents == 'Yes'), 'partner'] = 'partnered family'\n",
    "    telco.loc[(telco.partner == 'Yes') & (telco.dependents == 'No'), 'partner'] = 'partnered'\n",
    "    telco.loc[(telco.partner == 'No') & (telco.dependents == 'No'), 'partner'] = 'single'\n",
    "    telco.loc[(telco.streaming_tv == 'No') & (telco.streaming_movies == 'No'), 'streaming_tv'] = 'None'\n",
    "    telco.loc[(telco.streaming_tv == 'Yes') & (telco.streaming_movies == 'No'), 'streaming_tv'] = 'tv'\n",
    "    telco.loc[(telco.streaming_tv == 'No') & (telco.streaming_movies == 'Yes'), 'streaming_tv'] = 'movies'\n",
    "    telco.loc[(telco.streaming_tv == 'Yes') & (telco.streaming_movies == 'Yes'), 'streaming_tv'] = 'both'\n",
    "    telco.loc[(telco.online_security == 'Yes') & (telco.online_backup == 'Yes'), 'online_security'] = 'both'\n",
    "    telco.loc[(telco.online_security == 'No') & (telco.online_backup == 'Yes'), 'online_security'] = 'backup'\n",
    "    telco.loc[(telco.online_security == 'Yes') & (telco.online_backup == 'No'), 'online_security'] = 'security'\n",
    "    telco.loc[(telco.online_security == 'No') & (telco.online_backup == 'No'), 'online_security'] = 'None'\n",
    "    telco.rename(columns={\"phone_service\": \"phone_lines\", 'online_security': 'online_services', \n",
    "                      \"partner\": \"fam_status\", 'streaming_tv': 'streaming', 'gender': 'is_female'}, inplace = True)\n",
    "    telco.drop(columns = ['internet_service_type_id', 'multiple_lines', 'device_protection',\n",
    "                          'dependents', 'streaming_movies', 'online_backup'], inplace = True)\n",
    "    telco['years_held'] = round((telco['tenure'] / 12), 2)\n",
    "    telco['churn'] = telco.churn.replace({'Yes': 1, 'No': 0})\n",
    "    telco['is_female'] = telco.is_female.replace({'Female': 1, 'Male': 0})\n",
    "    telco['paperless_billing'] = telco.paperless_billing.replace({'Yes': 1, 'No': 0})\n",
    "    telco.total_charges = pd.to_numeric(telco.total_charges, errors='coerce').astype('float64')\n",
    "    telco.total_charges = telco.total_charges.fillna(value=0)\n",
    "    "
   ]
  },
  {
   "cell_type": "markdown",
   "metadata": {},
   "source": [
    "### Description of clean_telco():\n",
    "- Merged \"phone_lines\" and \"multiple_lines\" columns together into \"phone_lines\"\n",
    "- Merged \"partner\" and \"dependents\" columns together into \"fam_status\"\n",
    "- Merged \"streaming_movies\" and \"streaming_tv\" columns together into \"streaming\"\n",
    "- Merged \"online_security\" and \"online_backup\" columns together into \"online_services\"\n",
    "- Created a \"years_held\" column for the number of years a customer has been with the company\n",
    "- Changed non-numeric data into numeric form\n",
    "- Made \"total_charges\" column into valid data\n",
    "- In the interest of time I'm dropping \"device_protection\""
   ]
  },
  {
   "cell_type": "code",
   "execution_count": 7,
   "metadata": {},
   "outputs": [],
   "source": [
    "# applying clean function to data\n",
    "\n",
    "clean_telco(telco)"
   ]
  },
  {
   "cell_type": "markdown",
   "metadata": {},
   "source": [
    "### Splitting the data"
   ]
  },
  {
   "cell_type": "code",
   "execution_count": 8,
   "metadata": {},
   "outputs": [],
   "source": [
    "train, test = train_test_split(telco, test_size=.2, random_state=123, stratify=telco['churn'])\n",
    "train, validate = train_test_split(train, test_size=.3, random_state=123, stratify=train['churn'])"
   ]
  },
  {
   "cell_type": "code",
   "execution_count": 9,
   "metadata": {},
   "outputs": [
    {
     "data": {
      "text/html": [
       "<div>\n",
       "<style scoped>\n",
       "    .dataframe tbody tr th:only-of-type {\n",
       "        vertical-align: middle;\n",
       "    }\n",
       "\n",
       "    .dataframe tbody tr th {\n",
       "        vertical-align: top;\n",
       "    }\n",
       "\n",
       "    .dataframe thead th {\n",
       "        text-align: right;\n",
       "    }\n",
       "</style>\n",
       "<table border=\"1\" class=\"dataframe\">\n",
       "  <thead>\n",
       "    <tr style=\"text-align: right;\">\n",
       "      <th></th>\n",
       "      <th>customer_id</th>\n",
       "      <th>is_female</th>\n",
       "      <th>senior_citizen</th>\n",
       "      <th>fam_status</th>\n",
       "      <th>tenure</th>\n",
       "      <th>phone_lines</th>\n",
       "      <th>online_services</th>\n",
       "      <th>tech_support</th>\n",
       "      <th>streaming</th>\n",
       "      <th>contract_type_id</th>\n",
       "      <th>paperless_billing</th>\n",
       "      <th>payment_type_id</th>\n",
       "      <th>monthly_charges</th>\n",
       "      <th>total_charges</th>\n",
       "      <th>churn</th>\n",
       "      <th>internet_service_type</th>\n",
       "      <th>years_held</th>\n",
       "    </tr>\n",
       "  </thead>\n",
       "  <tbody>\n",
       "    <tr>\n",
       "      <th>5657</th>\n",
       "      <td>1051-EQPZR</td>\n",
       "      <td>1</td>\n",
       "      <td>0</td>\n",
       "      <td>partnered family</td>\n",
       "      <td>44</td>\n",
       "      <td>One</td>\n",
       "      <td>No internet service</td>\n",
       "      <td>No internet service</td>\n",
       "      <td>No internet service</td>\n",
       "      <td>1</td>\n",
       "      <td>0</td>\n",
       "      <td>2</td>\n",
       "      <td>19.60</td>\n",
       "      <td>780.25</td>\n",
       "      <td>0</td>\n",
       "      <td>None</td>\n",
       "      <td>3.67</td>\n",
       "    </tr>\n",
       "    <tr>\n",
       "      <th>3796</th>\n",
       "      <td>4450-DLLMH</td>\n",
       "      <td>0</td>\n",
       "      <td>0</td>\n",
       "      <td>single</td>\n",
       "      <td>2</td>\n",
       "      <td>One</td>\n",
       "      <td>None</td>\n",
       "      <td>No</td>\n",
       "      <td>None</td>\n",
       "      <td>1</td>\n",
       "      <td>1</td>\n",
       "      <td>4</td>\n",
       "      <td>71.30</td>\n",
       "      <td>157.75</td>\n",
       "      <td>0</td>\n",
       "      <td>Fiber optic</td>\n",
       "      <td>0.17</td>\n",
       "    </tr>\n",
       "    <tr>\n",
       "      <th>4566</th>\n",
       "      <td>6833-JMZYP</td>\n",
       "      <td>1</td>\n",
       "      <td>0</td>\n",
       "      <td>single</td>\n",
       "      <td>15</td>\n",
       "      <td>One</td>\n",
       "      <td>None</td>\n",
       "      <td>No</td>\n",
       "      <td>both</td>\n",
       "      <td>1</td>\n",
       "      <td>1</td>\n",
       "      <td>4</td>\n",
       "      <td>94.00</td>\n",
       "      <td>1505.45</td>\n",
       "      <td>0</td>\n",
       "      <td>Fiber optic</td>\n",
       "      <td>1.25</td>\n",
       "    </tr>\n",
       "    <tr>\n",
       "      <th>2389</th>\n",
       "      <td>9830-ECLEN</td>\n",
       "      <td>0</td>\n",
       "      <td>0</td>\n",
       "      <td>partnered family</td>\n",
       "      <td>58</td>\n",
       "      <td>None</td>\n",
       "      <td>both</td>\n",
       "      <td>No</td>\n",
       "      <td>tv</td>\n",
       "      <td>2</td>\n",
       "      <td>0</td>\n",
       "      <td>2</td>\n",
       "      <td>50.00</td>\n",
       "      <td>2919.85</td>\n",
       "      <td>0</td>\n",
       "      <td>DSL</td>\n",
       "      <td>4.83</td>\n",
       "    </tr>\n",
       "    <tr>\n",
       "      <th>2793</th>\n",
       "      <td>1200-TUZHR</td>\n",
       "      <td>1</td>\n",
       "      <td>1</td>\n",
       "      <td>single</td>\n",
       "      <td>8</td>\n",
       "      <td>Multiple</td>\n",
       "      <td>None</td>\n",
       "      <td>No</td>\n",
       "      <td>movies</td>\n",
       "      <td>1</td>\n",
       "      <td>0</td>\n",
       "      <td>1</td>\n",
       "      <td>85.20</td>\n",
       "      <td>695.75</td>\n",
       "      <td>0</td>\n",
       "      <td>Fiber optic</td>\n",
       "      <td>0.67</td>\n",
       "    </tr>\n",
       "    <tr>\n",
       "      <th>...</th>\n",
       "      <td>...</td>\n",
       "      <td>...</td>\n",
       "      <td>...</td>\n",
       "      <td>...</td>\n",
       "      <td>...</td>\n",
       "      <td>...</td>\n",
       "      <td>...</td>\n",
       "      <td>...</td>\n",
       "      <td>...</td>\n",
       "      <td>...</td>\n",
       "      <td>...</td>\n",
       "      <td>...</td>\n",
       "      <td>...</td>\n",
       "      <td>...</td>\n",
       "      <td>...</td>\n",
       "      <td>...</td>\n",
       "      <td>...</td>\n",
       "    </tr>\n",
       "    <tr>\n",
       "      <th>5295</th>\n",
       "      <td>9330-IJWIO</td>\n",
       "      <td>1</td>\n",
       "      <td>0</td>\n",
       "      <td>single</td>\n",
       "      <td>13</td>\n",
       "      <td>Multiple</td>\n",
       "      <td>security</td>\n",
       "      <td>No</td>\n",
       "      <td>both</td>\n",
       "      <td>1</td>\n",
       "      <td>1</td>\n",
       "      <td>1</td>\n",
       "      <td>100.35</td>\n",
       "      <td>1358.85</td>\n",
       "      <td>1</td>\n",
       "      <td>Fiber optic</td>\n",
       "      <td>1.08</td>\n",
       "    </tr>\n",
       "    <tr>\n",
       "      <th>316</th>\n",
       "      <td>1357-MVDOZ</td>\n",
       "      <td>0</td>\n",
       "      <td>0</td>\n",
       "      <td>partnered family</td>\n",
       "      <td>11</td>\n",
       "      <td>One</td>\n",
       "      <td>None</td>\n",
       "      <td>No</td>\n",
       "      <td>tv</td>\n",
       "      <td>1</td>\n",
       "      <td>1</td>\n",
       "      <td>3</td>\n",
       "      <td>59.65</td>\n",
       "      <td>683.25</td>\n",
       "      <td>0</td>\n",
       "      <td>DSL</td>\n",
       "      <td>0.92</td>\n",
       "    </tr>\n",
       "    <tr>\n",
       "      <th>2691</th>\n",
       "      <td>0872-NXJYS</td>\n",
       "      <td>1</td>\n",
       "      <td>0</td>\n",
       "      <td>single</td>\n",
       "      <td>9</td>\n",
       "      <td>One</td>\n",
       "      <td>None</td>\n",
       "      <td>No</td>\n",
       "      <td>movies</td>\n",
       "      <td>1</td>\n",
       "      <td>1</td>\n",
       "      <td>1</td>\n",
       "      <td>79.55</td>\n",
       "      <td>723.40</td>\n",
       "      <td>1</td>\n",
       "      <td>Fiber optic</td>\n",
       "      <td>0.75</td>\n",
       "    </tr>\n",
       "    <tr>\n",
       "      <th>3519</th>\n",
       "      <td>3508-CFVZL</td>\n",
       "      <td>1</td>\n",
       "      <td>0</td>\n",
       "      <td>single</td>\n",
       "      <td>71</td>\n",
       "      <td>Multiple</td>\n",
       "      <td>both</td>\n",
       "      <td>Yes</td>\n",
       "      <td>both</td>\n",
       "      <td>3</td>\n",
       "      <td>0</td>\n",
       "      <td>2</td>\n",
       "      <td>111.30</td>\n",
       "      <td>7985.90</td>\n",
       "      <td>0</td>\n",
       "      <td>Fiber optic</td>\n",
       "      <td>5.92</td>\n",
       "    </tr>\n",
       "    <tr>\n",
       "      <th>6863</th>\n",
       "      <td>8755-OGKNA</td>\n",
       "      <td>1</td>\n",
       "      <td>0</td>\n",
       "      <td>partnered family</td>\n",
       "      <td>57</td>\n",
       "      <td>One</td>\n",
       "      <td>No internet service</td>\n",
       "      <td>No internet service</td>\n",
       "      <td>No internet service</td>\n",
       "      <td>3</td>\n",
       "      <td>0</td>\n",
       "      <td>3</td>\n",
       "      <td>19.50</td>\n",
       "      <td>1167.60</td>\n",
       "      <td>0</td>\n",
       "      <td>None</td>\n",
       "      <td>4.75</td>\n",
       "    </tr>\n",
       "  </tbody>\n",
       "</table>\n",
       "<p>3943 rows × 17 columns</p>\n",
       "</div>"
      ],
      "text/plain": [
       "     customer_id  is_female  senior_citizen        fam_status  tenure  \\\n",
       "5657  1051-EQPZR          1               0  partnered family      44   \n",
       "3796  4450-DLLMH          0               0            single       2   \n",
       "4566  6833-JMZYP          1               0            single      15   \n",
       "2389  9830-ECLEN          0               0  partnered family      58   \n",
       "2793  1200-TUZHR          1               1            single       8   \n",
       "...          ...        ...             ...               ...     ...   \n",
       "5295  9330-IJWIO          1               0            single      13   \n",
       "316   1357-MVDOZ          0               0  partnered family      11   \n",
       "2691  0872-NXJYS          1               0            single       9   \n",
       "3519  3508-CFVZL          1               0            single      71   \n",
       "6863  8755-OGKNA          1               0  partnered family      57   \n",
       "\n",
       "     phone_lines      online_services         tech_support  \\\n",
       "5657         One  No internet service  No internet service   \n",
       "3796         One                 None                   No   \n",
       "4566         One                 None                   No   \n",
       "2389        None                 both                   No   \n",
       "2793    Multiple                 None                   No   \n",
       "...          ...                  ...                  ...   \n",
       "5295    Multiple             security                   No   \n",
       "316          One                 None                   No   \n",
       "2691         One                 None                   No   \n",
       "3519    Multiple                 both                  Yes   \n",
       "6863         One  No internet service  No internet service   \n",
       "\n",
       "                streaming  contract_type_id  paperless_billing  \\\n",
       "5657  No internet service                 1                  0   \n",
       "3796                 None                 1                  1   \n",
       "4566                 both                 1                  1   \n",
       "2389                   tv                 2                  0   \n",
       "2793               movies                 1                  0   \n",
       "...                   ...               ...                ...   \n",
       "5295                 both                 1                  1   \n",
       "316                    tv                 1                  1   \n",
       "2691               movies                 1                  1   \n",
       "3519                 both                 3                  0   \n",
       "6863  No internet service                 3                  0   \n",
       "\n",
       "      payment_type_id  monthly_charges  total_charges  churn  \\\n",
       "5657                2            19.60         780.25      0   \n",
       "3796                4            71.30         157.75      0   \n",
       "4566                4            94.00        1505.45      0   \n",
       "2389                2            50.00        2919.85      0   \n",
       "2793                1            85.20         695.75      0   \n",
       "...               ...              ...            ...    ...   \n",
       "5295                1           100.35        1358.85      1   \n",
       "316                 3            59.65         683.25      0   \n",
       "2691                1            79.55         723.40      1   \n",
       "3519                2           111.30        7985.90      0   \n",
       "6863                3            19.50        1167.60      0   \n",
       "\n",
       "     internet_service_type  years_held  \n",
       "5657                  None        3.67  \n",
       "3796           Fiber optic        0.17  \n",
       "4566           Fiber optic        1.25  \n",
       "2389                   DSL        4.83  \n",
       "2793           Fiber optic        0.67  \n",
       "...                    ...         ...  \n",
       "5295           Fiber optic        1.08  \n",
       "316                    DSL        0.92  \n",
       "2691           Fiber optic        0.75  \n",
       "3519           Fiber optic        5.92  \n",
       "6863                  None        4.75  \n",
       "\n",
       "[3943 rows x 17 columns]"
      ]
     },
     "execution_count": 9,
     "metadata": {},
     "output_type": "execute_result"
    }
   ],
   "source": [
    "train"
   ]
  },
  {
   "cell_type": "markdown",
   "metadata": {},
   "source": [
    "## Exploring"
   ]
  },
  {
   "cell_type": "code",
   "execution_count": 8,
   "metadata": {},
   "outputs": [
    {
     "data": {
      "text/plain": [
       "<AxesSubplot:xlabel='internet_service_type', ylabel='count'>"
      ]
     },
     "execution_count": 8,
     "metadata": {},
     "output_type": "execute_result"
    },
    {
     "data": {
      "image/png": "[encoded data removed]",
      "text/plain": [
       "<Figure size 432x288 with 1 Axes>"
      ]
     },
     "metadata": {
      "needs_background": "light"
     },
     "output_type": "display_data"
    }
   ],
   "source": [
    "# plotting internet service with churn counts\n",
    "\n",
    "sns.countplot(x = 'internet_service_type', hue = 'churn', data=train, palette='Blues', ec='black', linewidth=2)"
   ]
  },
  {
   "cell_type": "code",
   "execution_count": 9,
   "metadata": {},
   "outputs": [
    {
     "data": {
      "text/plain": [
       "<AxesSubplot:xlabel='senior_citizen', ylabel='count'>"
      ]
     },
     "execution_count": 9,
     "metadata": {},
     "output_type": "execute_result"
    },
    {
     "data": {
      "image/png": "[encoded data removed]",
      "text/plain": [
       "<Figure size 432x288 with 1 Axes>"
      ]
     },
     "metadata": {
      "needs_background": "light"
     },
     "output_type": "display_data"
    }
   ],
   "source": [
    "# plotting seniors with churn counts\n",
    "\n",
    "sns.countplot(x = 'senior_citizen', hue = 'churn', data=train, palette='Blues', ec='black', linewidth=2)"
   ]
  },
  {
   "cell_type": "code",
   "execution_count": 10,
   "metadata": {},
   "outputs": [
    {
     "data": {
      "text/plain": [
       "<AxesSubplot:xlabel='fam_status', ylabel='count'>"
      ]
     },
     "execution_count": 10,
     "metadata": {},
     "output_type": "execute_result"
    },
    {
     "data": {
      "image/png": "[encoded data removed]",
      "text/plain": [
       "<Figure size 432x288 with 1 Axes>"
      ]
     },
     "metadata": {
      "needs_background": "light"
     },
     "output_type": "display_data"
    }
   ],
   "source": [
    "# plotting family types with churn counts\n",
    "\n",
    "sns.countplot(x = 'fam_status', hue = 'churn', data=train, palette='Blues', ec='black', linewidth=2)"
   ]
  },
  {
   "cell_type": "code",
   "execution_count": 14,
   "metadata": {},
   "outputs": [
    {
     "data": {
      "text/plain": [
       "<AxesSubplot:xlabel='tenure', ylabel='churn'>"
      ]
     },
     "execution_count": 14,
     "metadata": {},
     "output_type": "execute_result"
    },
    {
     "data": {
      "image/png": "[encoded data removed]",
      "text/plain": [
       "<Figure size 432x288 with 1 Axes>"
      ]
     },
     "metadata": {
      "needs_background": "light"
     },
     "output_type": "display_data"
    }
   ],
   "source": [
    "# plotting tenure with churn frequency\n",
    "\n",
    "sns.lineplot(x = 'tenure', y = 'churn', data = train)"
   ]
  },
  {
   "cell_type": "code",
   "execution_count": 11,
   "metadata": {},
   "outputs": [
    {
     "data": {
      "text/plain": [
       "<AxesSubplot:xlabel='phone_lines', ylabel='count'>"
      ]
     },
     "execution_count": 11,
     "metadata": {},
     "output_type": "execute_result"
    },
    {
     "data": {
      "image/png": "[encoded data removed]",
      "text/plain": [
       "<Figure size 432x288 with 1 Axes>"
      ]
     },
     "metadata": {
      "needs_background": "light"
     },
     "output_type": "display_data"
    }
   ],
   "source": [
    "# plotting phone lines with churn counts\n",
    "\n",
    "sns.countplot(x = 'phone_lines', hue = 'churn', data=train, palette='Blues', ec='black', linewidth=2)"
   ]
  },
  {
   "cell_type": "code",
   "execution_count": 12,
   "metadata": {},
   "outputs": [
    {
     "data": {
      "text/plain": [
       "<AxesSubplot:xlabel='is_female', ylabel='count'>"
      ]
     },
     "execution_count": 12,
     "metadata": {},
     "output_type": "execute_result"
    },
    {
     "data": {
      "image/png": "[encoded data removed]",
      "text/plain": [
       "<Figure size 432x288 with 1 Axes>"
      ]
     },
     "metadata": {
      "needs_background": "light"
     },
     "output_type": "display_data"
    }
   ],
   "source": [
    "# plotting gender with churn counts\n",
    "\n",
    "sns.countplot(x = 'is_female', hue = 'churn', data=train, palette='Blues', ec='black', linewidth=2)"
   ]
  },
  {
   "cell_type": "markdown",
   "metadata": {},
   "source": [
    "## Univariate"
   ]
  },
  {
   "cell_type": "code",
   "execution_count": 13,
   "metadata": {
    "scrolled": true
   },
   "outputs": [
    {
     "data": {
      "image/png": "[encoded data removed]",
      "text/plain": [
       "<Figure size 144x144 with 1 Axes>"
      ]
     },
     "metadata": {
      "needs_background": "light"
     },
     "output_type": "display_data"
    },
    {
     "name": "stdout",
     "output_type": "stream",
     "text": [
      "   is_female  Count  Percent\n",
      "0          1   1997    50.65\n",
      "1          0   1946    49.35\n",
      "_________________________________________________________________\n"
     ]
    },
    {
     "data": {
      "image/png": "[encoded data removed]",
      "text/plain": [
       "<Figure size 144x144 with 1 Axes>"
      ]
     },
     "metadata": {
      "needs_background": "light"
     },
     "output_type": "display_data"
    },
    {
     "name": "stdout",
     "output_type": "stream",
     "text": [
      "   senior_citizen  Count  Percent\n",
      "0               0   3293    83.52\n",
      "1               1    650    16.48\n",
      "_________________________________________________________________\n"
     ]
    },
    {
     "data": {
      "image/png": "[encoded data removed]",
      "text/plain": [
       "<Figure size 144x144 with 1 Axes>"
      ]
     },
     "metadata": {
      "needs_background": "light"
     },
     "output_type": "display_data"
    },
    {
     "name": "stdout",
     "output_type": "stream",
     "text": [
      "                        fam_status  Count  Percent\n",
      "single            partnered family   1831    46.44\n",
      "partnered family            single    999    25.34\n",
      "partnered                partnered    914    23.18\n",
      "single family        single family    199     5.05\n",
      "_________________________________________________________________\n"
     ]
    },
    {
     "data": {
      "image/png": "[encoded data removed]",
      "text/plain": [
       "<Figure size 144x144 with 1 Axes>"
      ]
     },
     "metadata": {
      "needs_background": "light"
     },
     "output_type": "display_data"
    },
    {
     "name": "stdout",
     "output_type": "stream",
     "text": [
      "         phone_lines  Count  Percent\n",
      "One              One   1896    48.09\n",
      "Multiple        None   1663    42.18\n",
      "None        Multiple    384     9.74\n",
      "_________________________________________________________________\n"
     ]
    },
    {
     "data": {
      "image/png": "[encoded data removed]",
      "text/plain": [
       "<Figure size 144x144 with 1 Axes>"
      ]
     },
     "metadata": {
      "needs_background": "light"
     },
     "output_type": "display_data"
    },
    {
     "name": "stdout",
     "output_type": "stream",
     "text": [
      "                         online_services  Count  Percent\n",
      "None                 No internet service   1217    30.86\n",
      "No internet service                 None    838    21.25\n",
      "backup                              both    737    18.69\n",
      "both                              backup    649    16.46\n",
      "security                        security    502    12.73\n",
      "_________________________________________________________________\n"
     ]
    },
    {
     "data": {
      "image/png": "[encoded data removed]",
      "text/plain": [
       "<Figure size 144x144 with 1 Axes>"
      ]
     },
     "metadata": {
      "needs_background": "light"
     },
     "output_type": "display_data"
    },
    {
     "name": "stdout",
     "output_type": "stream",
     "text": [
      "                               streaming  Count  Percent\n",
      "both                 No internet service   1101    27.92\n",
      "None                                None   1095    27.77\n",
      "No internet service                 both    838    21.25\n",
      "movies                                tv    456    11.56\n",
      "tv                                movies    453    11.49\n",
      "_________________________________________________________________\n"
     ]
    },
    {
     "data": {
      "image/png": "[encoded data removed]",
      "text/plain": [
       "<Figure size 144x144 with 1 Axes>"
      ]
     },
     "metadata": {
      "needs_background": "light"
     },
     "output_type": "display_data"
    },
    {
     "name": "stdout",
     "output_type": "stream",
     "text": [
      "            internet_service_type  Count  Percent\n",
      "Fiber optic                  None   1740    44.13\n",
      "DSL                   Fiber optic   1365    34.62\n",
      "None                          DSL    838    21.25\n",
      "_________________________________________________________________\n"
     ]
    },
    {
     "data": {
      "image/png": "[encoded data removed]",
      "text/plain": [
       "<Figure size 576x144 with 2 Axes>"
      ]
     },
     "metadata": {
      "needs_background": "light"
     },
     "output_type": "display_data"
    },
    {
     "name": "stdout",
     "output_type": "stream",
     "text": [
      "count    3943.000000\n",
      "mean       32.531829\n",
      "std        24.542655\n",
      "min         0.000000\n",
      "25%         9.000000\n",
      "50%        29.000000\n",
      "75%        56.000000\n",
      "max        72.000000\n",
      "Name: tenure, dtype: float64\n"
     ]
    },
    {
     "data": {
      "image/png": "[encoded data removed]",
      "text/plain": [
       "<Figure size 576x144 with 2 Axes>"
      ]
     },
     "metadata": {
      "needs_background": "light"
     },
     "output_type": "display_data"
    },
    {
     "name": "stdout",
     "output_type": "stream",
     "text": [
      "count    3943.000000\n",
      "mean       65.119883\n",
      "std        30.023920\n",
      "min        18.400000\n",
      "25%        38.175000\n",
      "50%        70.600000\n",
      "75%        90.050000\n",
      "max       118.600000\n",
      "Name: monthly_charges, dtype: float64\n"
     ]
    },
    {
     "data": {
      "image/png": "[encoded data removed]",
      "text/plain": [
       "<Figure size 576x144 with 2 Axes>"
      ]
     },
     "metadata": {
      "needs_background": "light"
     },
     "output_type": "display_data"
    },
    {
     "name": "stdout",
     "output_type": "stream",
     "text": [
      "count    3943.000000\n",
      "mean     2313.782425\n",
      "std      2284.765985\n",
      "min         0.000000\n",
      "25%       402.725000\n",
      "50%      1415.550000\n",
      "75%      3840.675000\n",
      "max      8684.800000\n",
      "Name: total_charges, dtype: float64\n"
     ]
    }
   ],
   "source": [
    "# exploring univariate graphics\n",
    "\n",
    "cat_vars = ['is_female', 'senior_citizen', 'fam_status', 'phone_lines', 'online_services',\n",
    "            'streaming', 'internet_service_type']\n",
    "quant_vars = ['tenure', 'monthly_charges', 'total_charges']\n",
    "target = 'churn'\n",
    "explore.explore_univariate(train, cat_vars, quant_vars)"
   ]
  },
  {
   "cell_type": "markdown",
   "metadata": {},
   "source": [
    "## Bivariate"
   ]
  },
  {
   "cell_type": "code",
   "execution_count": 14,
   "metadata": {
    "scrolled": true
   },
   "outputs": [],
   "source": [
    "# Exploring bivariate graphics (commented out since it's hard on my poor laptop)\n",
    "\n",
    "#explore.explore_bivariate(train, 'churn', cat_vars, quant_vars)"
   ]
  },
  {
   "cell_type": "markdown",
   "metadata": {},
   "source": [
    "## Multivariate"
   ]
  },
  {
   "cell_type": "code",
   "execution_count": 15,
   "metadata": {},
   "outputs": [],
   "source": [
    "# Exploring multivariate graphics (commented out since it's hard on my poor laptop)\n",
    "\n",
    "#cat_vars = ['is_female', 'senior_citizen', 'fam_status', 'internet_service_type']\n",
    "#explore.explore_multivariate(train, target, cat_vars, quant_vars)"
   ]
  },
  {
   "cell_type": "markdown",
   "metadata": {},
   "source": [
    "# Statistical testing"
   ]
  },
  {
   "cell_type": "markdown",
   "metadata": {},
   "source": [
    "### Hypothesis 1"
   ]
  },
  {
   "cell_type": "markdown",
   "metadata": {},
   "source": [
    "#### Null Hypothesis: Churn rate is independent of internet service type\n",
    "#### Alternative:  Churn rate is not independent of internet service type"
   ]
  },
  {
   "cell_type": "code",
   "execution_count": 16,
   "metadata": {},
   "outputs": [],
   "source": [
    "telco_w_int = train[(train.internet_service_type != 'None')]"
   ]
  },
  {
   "cell_type": "code",
   "execution_count": 17,
   "metadata": {},
   "outputs": [],
   "source": [
    "internet_churn_info = pd.crosstab(train.internet_service_type, train.churn)"
   ]
  },
  {
   "cell_type": "code",
   "execution_count": 18,
   "metadata": {},
   "outputs": [
    {
     "data": {
      "text/html": [
       "<div>\n",
       "<style scoped>\n",
       "    .dataframe tbody tr th:only-of-type {\n",
       "        vertical-align: middle;\n",
       "    }\n",
       "\n",
       "    .dataframe tbody tr th {\n",
       "        vertical-align: top;\n",
       "    }\n",
       "\n",
       "    .dataframe thead th {\n",
       "        text-align: right;\n",
       "    }\n",
       "</style>\n",
       "<table border=\"1\" class=\"dataframe\">\n",
       "  <thead>\n",
       "    <tr style=\"text-align: right;\">\n",
       "      <th>churn</th>\n",
       "      <th>0</th>\n",
       "      <th>1</th>\n",
       "    </tr>\n",
       "    <tr>\n",
       "      <th>internet_service_type</th>\n",
       "      <th></th>\n",
       "      <th></th>\n",
       "    </tr>\n",
       "  </thead>\n",
       "  <tbody>\n",
       "    <tr>\n",
       "      <th>DSL</th>\n",
       "      <td>1106</td>\n",
       "      <td>259</td>\n",
       "    </tr>\n",
       "    <tr>\n",
       "      <th>Fiber optic</th>\n",
       "      <td>1016</td>\n",
       "      <td>724</td>\n",
       "    </tr>\n",
       "    <tr>\n",
       "      <th>None</th>\n",
       "      <td>775</td>\n",
       "      <td>63</td>\n",
       "    </tr>\n",
       "  </tbody>\n",
       "</table>\n",
       "</div>"
      ],
      "text/plain": [
       "churn                     0    1\n",
       "internet_service_type           \n",
       "DSL                    1106  259\n",
       "Fiber optic            1016  724\n",
       "None                    775   63"
      ]
     },
     "execution_count": 18,
     "metadata": {},
     "output_type": "execute_result"
    }
   ],
   "source": [
    "internet_churn_info"
   ]
  },
  {
   "cell_type": "code",
   "execution_count": 19,
   "metadata": {},
   "outputs": [],
   "source": [
    "alpha = .05\n",
    "chi2, p, degf, expected = stats.chi2_contingency(internet_churn_info)"
   ]
  },
  {
   "cell_type": "code",
   "execution_count": 20,
   "metadata": {},
   "outputs": [
    {
     "name": "stdout",
     "output_type": "stream",
     "text": [
      "Internet Churn Info\n",
      "\n",
      "[[1106  259]\n",
      " [1016  724]\n",
      " [ 775   63]]\n",
      "---\n",
      "Expected\n",
      "\n",
      "[[1002.89246766  362.10753234]\n",
      " [1278.41237636  461.58762364]\n",
      " [ 615.69515597  222.30484403]]\n",
      "---\n",
      "\n",
      "chi^2 = 398.3821\n",
      "p     = 0.0000\n"
     ]
    }
   ],
   "source": [
    "print('Internet Churn Info\\n')\n",
    "print(internet_churn_info.values)\n",
    "print('---\\nExpected\\n')\n",
    "print(expected)\n",
    "print('---\\n')\n",
    "print(f'chi^2 = {chi2:.4f}')\n",
    "print(f'p     = {p:.4f}')"
   ]
  },
  {
   "cell_type": "markdown",
   "metadata": {},
   "source": [
    "### We reject the null hypothesis that churn rate is independent of internet service type."
   ]
  },
  {
   "cell_type": "markdown",
   "metadata": {},
   "source": [
    "I can think of no reason why fiber customers have such a different churn rate than the other internet service types\n",
    "other than it being related to fiber itself. Customer surveys may be helpful in this situation."
   ]
  },
  {
   "cell_type": "markdown",
   "metadata": {},
   "source": [
    "### Hypothesis 2"
   ]
  },
  {
   "cell_type": "markdown",
   "metadata": {},
   "source": [
    "#### Null Hypothesis: Churn rate is independent of being a senior citizen\n",
    "#### Alternative: Churn rate is not independent of being a senior citizen"
   ]
  },
  {
   "cell_type": "code",
   "execution_count": 21,
   "metadata": {},
   "outputs": [],
   "source": [
    "senior_churn_info = pd.crosstab(train.senior_citizen, train.churn)"
   ]
  },
  {
   "cell_type": "code",
   "execution_count": 22,
   "metadata": {},
   "outputs": [
    {
     "data": {
      "text/html": [
       "<div>\n",
       "<style scoped>\n",
       "    .dataframe tbody tr th:only-of-type {\n",
       "        vertical-align: middle;\n",
       "    }\n",
       "\n",
       "    .dataframe tbody tr th {\n",
       "        vertical-align: top;\n",
       "    }\n",
       "\n",
       "    .dataframe thead th {\n",
       "        text-align: right;\n",
       "    }\n",
       "</style>\n",
       "<table border=\"1\" class=\"dataframe\">\n",
       "  <thead>\n",
       "    <tr style=\"text-align: right;\">\n",
       "      <th>churn</th>\n",
       "      <th>0</th>\n",
       "      <th>1</th>\n",
       "    </tr>\n",
       "    <tr>\n",
       "      <th>senior_citizen</th>\n",
       "      <th></th>\n",
       "      <th></th>\n",
       "    </tr>\n",
       "  </thead>\n",
       "  <tbody>\n",
       "    <tr>\n",
       "      <th>0</th>\n",
       "      <td>2527</td>\n",
       "      <td>766</td>\n",
       "    </tr>\n",
       "    <tr>\n",
       "      <th>1</th>\n",
       "      <td>370</td>\n",
       "      <td>280</td>\n",
       "    </tr>\n",
       "  </tbody>\n",
       "</table>\n",
       "</div>"
      ],
      "text/plain": [
       "churn              0    1\n",
       "senior_citizen           \n",
       "0               2527  766\n",
       "1                370  280"
      ]
     },
     "execution_count": 22,
     "metadata": {},
     "output_type": "execute_result"
    }
   ],
   "source": [
    "senior_churn_info"
   ]
  },
  {
   "cell_type": "code",
   "execution_count": 23,
   "metadata": {},
   "outputs": [],
   "source": [
    "alpha = .05\n",
    "chi2, p, degf, expected = stats.chi2_contingency(senior_churn_info)"
   ]
  },
  {
   "cell_type": "code",
   "execution_count": 24,
   "metadata": {},
   "outputs": [
    {
     "name": "stdout",
     "output_type": "stream",
     "text": [
      "Senior Churn Info\n",
      "\n",
      "[[1106  259]\n",
      " [1016  724]\n",
      " [ 775   63]]\n",
      "---\n",
      "Expected\n",
      "\n",
      "[[2419.43215826  873.56784174]\n",
      " [ 477.56784174  172.43215826]]\n",
      "---\n",
      "\n",
      "chi^2 = 108.3461\n",
      "p     = 0.0000\n"
     ]
    }
   ],
   "source": [
    "print('Senior Churn Info\\n')\n",
    "print(internet_churn_info.values)\n",
    "print('---\\nExpected\\n')\n",
    "print(expected)\n",
    "print('---\\n')\n",
    "print(f'chi^2 = {chi2:.4f}')\n",
    "print(f'p     = {p:.4f}')"
   ]
  },
  {
   "cell_type": "markdown",
   "metadata": {},
   "source": [
    "### We reject the null hypothesis that churn rate is independent of being a senior citizen"
   ]
  },
  {
   "cell_type": "markdown",
   "metadata": {},
   "source": [
    "Senior citizens may be churning at a higher rate because of frustration with newer technology as a whole. There is also the possibility that they may not cancel their service, but pass away and cannot continue their service. Another test is going to be performed to see if tech support makes a difference among the elderly."
   ]
  },
  {
   "cell_type": "markdown",
   "metadata": {},
   "source": [
    "### Hypothesis 3"
   ]
  },
  {
   "cell_type": "markdown",
   "metadata": {},
   "source": [
    "#### Null Hypothesis: Tech support is independent of elderly churn rate\n",
    "#### Alternative: Tech support is not independent of elderly churn rate"
   ]
  },
  {
   "cell_type": "code",
   "execution_count": 25,
   "metadata": {},
   "outputs": [],
   "source": [
    "# Making a dataset of just elerly customers with internet\n",
    "\n",
    "old = train[train['senior_citizen'] == 1]\n",
    "old = old[old.tech_support != 'No internet service']"
   ]
  },
  {
   "cell_type": "code",
   "execution_count": 26,
   "metadata": {},
   "outputs": [],
   "source": [
    "senior_tech_churn = pd.crosstab(old.tech_support, old.churn)"
   ]
  },
  {
   "cell_type": "code",
   "execution_count": 27,
   "metadata": {},
   "outputs": [
    {
     "data": {
      "text/html": [
       "<div>\n",
       "<style scoped>\n",
       "    .dataframe tbody tr th:only-of-type {\n",
       "        vertical-align: middle;\n",
       "    }\n",
       "\n",
       "    .dataframe tbody tr th {\n",
       "        vertical-align: top;\n",
       "    }\n",
       "\n",
       "    .dataframe thead th {\n",
       "        text-align: right;\n",
       "    }\n",
       "</style>\n",
       "<table border=\"1\" class=\"dataframe\">\n",
       "  <thead>\n",
       "    <tr style=\"text-align: right;\">\n",
       "      <th>churn</th>\n",
       "      <th>0</th>\n",
       "      <th>1</th>\n",
       "    </tr>\n",
       "    <tr>\n",
       "      <th>tech_support</th>\n",
       "      <th></th>\n",
       "      <th></th>\n",
       "    </tr>\n",
       "  </thead>\n",
       "  <tbody>\n",
       "    <tr>\n",
       "      <th>No</th>\n",
       "      <td>229</td>\n",
       "      <td>248</td>\n",
       "    </tr>\n",
       "    <tr>\n",
       "      <th>Yes</th>\n",
       "      <td>111</td>\n",
       "      <td>30</td>\n",
       "    </tr>\n",
       "  </tbody>\n",
       "</table>\n",
       "</div>"
      ],
      "text/plain": [
       "churn           0    1\n",
       "tech_support          \n",
       "No            229  248\n",
       "Yes           111   30"
      ]
     },
     "execution_count": 27,
     "metadata": {},
     "output_type": "execute_result"
    }
   ],
   "source": [
    "senior_tech_churn"
   ]
  },
  {
   "cell_type": "code",
   "execution_count": 28,
   "metadata": {},
   "outputs": [],
   "source": [
    "alpha = .05\n",
    "chi2, p, degf, expected = stats.chi2_contingency(senior_tech_churn)"
   ]
  },
  {
   "cell_type": "code",
   "execution_count": 29,
   "metadata": {},
   "outputs": [
    {
     "name": "stdout",
     "output_type": "stream",
     "text": [
      "Senior Tech Churn Info\n",
      "\n",
      "[[1106  259]\n",
      " [1016  724]\n",
      " [ 775   63]]\n",
      "---\n",
      "Expected\n",
      "\n",
      "[[262.42718447 214.57281553]\n",
      " [ 77.57281553  63.42718447]]\n",
      "---\n",
      "\n",
      "chi^2 = 40.2544\n",
      "p     = 0.0000\n"
     ]
    }
   ],
   "source": [
    "print('Senior Tech Churn Info\\n')\n",
    "print(internet_churn_info.values)\n",
    "print('---\\nExpected\\n')\n",
    "print(expected)\n",
    "print('---\\n')\n",
    "print(f'chi^2 = {chi2:.4f}')\n",
    "print(f'p     = {p:.4f}')"
   ]
  },
  {
   "cell_type": "markdown",
   "metadata": {},
   "source": [
    "### We reject the null hypothesis that tech support is independent of elderly churn rate"
   ]
  },
  {
   "cell_type": "markdown",
   "metadata": {},
   "source": [
    "There is a significant difference in churn rate among the elderly who have tech support and those that do not. Those with tech support are much less likely to churn. This supports the idea that elderly persons are more likely to keep service if they are provided with tech support."
   ]
  },
  {
   "cell_type": "markdown",
   "metadata": {},
   "source": [
    "# Modeling"
   ]
  },
  {
   "cell_type": "markdown",
   "metadata": {},
   "source": [
    "### Making dummies for modeling"
   ]
  },
  {
   "cell_type": "code",
   "execution_count": 30,
   "metadata": {},
   "outputs": [],
   "source": [
    "def modeling_telco(telco):\n",
    "    model_telco = telco\n",
    "    dummies_fam = pd.get_dummies(telco[['fam_status']], drop_first = True)\n",
    "    dummies_phone_lines = pd.get_dummies(telco[['phone_lines']], drop_first = True)\n",
    "    dummies_online_services = pd.get_dummies(telco[['online_services']], drop_first = True)\n",
    "    dummies_tech_support = pd.get_dummies(telco[['tech_support']], drop_first = True)\n",
    "    dummies_streaming = pd.get_dummies(telco[['streaming']], drop_first = True)\n",
    "    dummies_internet_service_type = pd.get_dummies(telco[['internet_service_type']], drop_first = True)\n",
    "\n",
    "    model_telco.drop(columns = ['fam_status', 'phone_lines', 'online_services', 'tech_support',\n",
    "                                'streaming', 'internet_service_type', 'customer_id'], inplace = True)\n",
    "    model_telco = pd.concat([model_telco, dummies_fam, dummies_phone_lines, dummies_online_services,\n",
    "                             dummies_tech_support, dummies_streaming, dummies_internet_service_type], axis=1)\n",
    "    return model_telco"
   ]
  },
  {
   "cell_type": "code",
   "execution_count": 31,
   "metadata": {},
   "outputs": [],
   "source": [
    "# applying function to get dummies\n",
    "\n",
    "model_telco = modeling_telco(telco)"
   ]
  },
  {
   "cell_type": "code",
   "execution_count": 32,
   "metadata": {},
   "outputs": [],
   "source": [
    "# splitting data again so it includes dummies\n",
    "\n",
    "train, test = train_test_split(model_telco, test_size=.2, random_state=123, stratify=model_telco['churn'])\n",
    "train, validate = train_test_split(train, test_size=.3, random_state=123, stratify=train['churn'])"
   ]
  },
  {
   "cell_type": "code",
   "execution_count": 33,
   "metadata": {},
   "outputs": [],
   "source": [
    "x_train = train.drop(columns = ['churn'])\n",
    "y_train = train.churn\n",
    "\n",
    "x_validate = validate.drop(columns = ['churn'])\n",
    "y_validate = validate.churn\n",
    "\n",
    "x_test = test.drop(columns = ['churn'])\n",
    "y_test = test.churn"
   ]
  },
  {
   "cell_type": "markdown",
   "metadata": {},
   "source": [
    "### Baseline"
   ]
  },
  {
   "cell_type": "code",
   "execution_count": 34,
   "metadata": {},
   "outputs": [
    {
     "data": {
      "text/html": [
       "<div>\n",
       "<style scoped>\n",
       "    .dataframe tbody tr th:only-of-type {\n",
       "        vertical-align: middle;\n",
       "    }\n",
       "\n",
       "    .dataframe tbody tr th {\n",
       "        vertical-align: top;\n",
       "    }\n",
       "\n",
       "    .dataframe thead th {\n",
       "        text-align: right;\n",
       "    }\n",
       "</style>\n",
       "<table border=\"1\" class=\"dataframe\">\n",
       "  <thead>\n",
       "    <tr style=\"text-align: right;\">\n",
       "      <th></th>\n",
       "      <th>is_female</th>\n",
       "      <th>senior_citizen</th>\n",
       "      <th>tenure</th>\n",
       "      <th>contract_type_id</th>\n",
       "      <th>paperless_billing</th>\n",
       "      <th>payment_type_id</th>\n",
       "      <th>monthly_charges</th>\n",
       "      <th>total_charges</th>\n",
       "      <th>years_held</th>\n",
       "      <th>fam_status_partnered family</th>\n",
       "      <th>...</th>\n",
       "      <th>online_services_both</th>\n",
       "      <th>online_services_security</th>\n",
       "      <th>tech_support_No internet service</th>\n",
       "      <th>tech_support_Yes</th>\n",
       "      <th>streaming_None</th>\n",
       "      <th>streaming_both</th>\n",
       "      <th>streaming_movies</th>\n",
       "      <th>streaming_tv</th>\n",
       "      <th>internet_service_type_Fiber optic</th>\n",
       "      <th>internet_service_type_None</th>\n",
       "    </tr>\n",
       "    <tr>\n",
       "      <th>churn</th>\n",
       "      <th></th>\n",
       "      <th></th>\n",
       "      <th></th>\n",
       "      <th></th>\n",
       "      <th></th>\n",
       "      <th></th>\n",
       "      <th></th>\n",
       "      <th></th>\n",
       "      <th></th>\n",
       "      <th></th>\n",
       "      <th></th>\n",
       "      <th></th>\n",
       "      <th></th>\n",
       "      <th></th>\n",
       "      <th></th>\n",
       "      <th></th>\n",
       "      <th></th>\n",
       "      <th></th>\n",
       "      <th></th>\n",
       "      <th></th>\n",
       "      <th></th>\n",
       "    </tr>\n",
       "  </thead>\n",
       "  <tbody>\n",
       "    <tr>\n",
       "      <th>0</th>\n",
       "      <td>2897</td>\n",
       "      <td>2897</td>\n",
       "      <td>2897</td>\n",
       "      <td>2897</td>\n",
       "      <td>2897</td>\n",
       "      <td>2897</td>\n",
       "      <td>2897</td>\n",
       "      <td>2897</td>\n",
       "      <td>2897</td>\n",
       "      <td>2897</td>\n",
       "      <td>...</td>\n",
       "      <td>2897</td>\n",
       "      <td>2897</td>\n",
       "      <td>2897</td>\n",
       "      <td>2897</td>\n",
       "      <td>2897</td>\n",
       "      <td>2897</td>\n",
       "      <td>2897</td>\n",
       "      <td>2897</td>\n",
       "      <td>2897</td>\n",
       "      <td>2897</td>\n",
       "    </tr>\n",
       "    <tr>\n",
       "      <th>1</th>\n",
       "      <td>1046</td>\n",
       "      <td>1046</td>\n",
       "      <td>1046</td>\n",
       "      <td>1046</td>\n",
       "      <td>1046</td>\n",
       "      <td>1046</td>\n",
       "      <td>1046</td>\n",
       "      <td>1046</td>\n",
       "      <td>1046</td>\n",
       "      <td>1046</td>\n",
       "      <td>...</td>\n",
       "      <td>1046</td>\n",
       "      <td>1046</td>\n",
       "      <td>1046</td>\n",
       "      <td>1046</td>\n",
       "      <td>1046</td>\n",
       "      <td>1046</td>\n",
       "      <td>1046</td>\n",
       "      <td>1046</td>\n",
       "      <td>1046</td>\n",
       "      <td>1046</td>\n",
       "    </tr>\n",
       "  </tbody>\n",
       "</table>\n",
       "<p>2 rows × 26 columns</p>\n",
       "</div>"
      ],
      "text/plain": [
       "       is_female  senior_citizen  tenure  contract_type_id  paperless_billing  \\\n",
       "churn                                                                           \n",
       "0           2897            2897    2897              2897               2897   \n",
       "1           1046            1046    1046              1046               1046   \n",
       "\n",
       "       payment_type_id  monthly_charges  total_charges  years_held  \\\n",
       "churn                                                                \n",
       "0                 2897             2897           2897        2897   \n",
       "1                 1046             1046           1046        1046   \n",
       "\n",
       "       fam_status_partnered family  ...  online_services_both  \\\n",
       "churn                               ...                         \n",
       "0                             2897  ...                  2897   \n",
       "1                             1046  ...                  1046   \n",
       "\n",
       "       online_services_security  tech_support_No internet service  \\\n",
       "churn                                                               \n",
       "0                          2897                              2897   \n",
       "1                          1046                              1046   \n",
       "\n",
       "       tech_support_Yes  streaming_None  streaming_both  streaming_movies  \\\n",
       "churn                                                                       \n",
       "0                  2897            2897            2897              2897   \n",
       "1                  1046            1046            1046              1046   \n",
       "\n",
       "       streaming_tv  internet_service_type_Fiber optic  \\\n",
       "churn                                                    \n",
       "0              2897                               2897   \n",
       "1              1046                               1046   \n",
       "\n",
       "       internet_service_type_None  \n",
       "churn                              \n",
       "0                            2897  \n",
       "1                            1046  \n",
       "\n",
       "[2 rows x 26 columns]"
      ]
     },
     "execution_count": 34,
     "metadata": {},
     "output_type": "execute_result"
    }
   ],
   "source": [
    "# churn counts to establish a baseline\n",
    "\n",
    "train.groupby('churn').count()"
   ]
  },
  {
   "cell_type": "code",
   "execution_count": 35,
   "metadata": {},
   "outputs": [
    {
     "name": "stdout",
     "output_type": "stream",
     "text": [
      "Baseline     = 0.7347\n"
     ]
    }
   ],
   "source": [
    "# calculating the baseline\n",
    "\n",
    "print(f'Baseline     = {(2897/(2897 + 1046)):.4f}')"
   ]
  },
  {
   "cell_type": "markdown",
   "metadata": {},
   "source": [
    "### Function to find weights of parameters"
   ]
  },
  {
   "cell_type": "code",
   "execution_count": 36,
   "metadata": {},
   "outputs": [],
   "source": [
    "def gimme_them_weights(rf, x_train):\n",
    "    feat = rf.feature_importances_\n",
    "    key = x_train.columns.tolist()\n",
    "    val = feat.tolist()\n",
    "    val = [round(num, 2) for num in val]\n",
    "    res = {key[i]: val[i] for i in range(len(key))} \n",
    "    return res"
   ]
  },
  {
   "cell_type": "markdown",
   "metadata": {},
   "source": [
    "## Decision Tree Model"
   ]
  },
  {
   "cell_type": "markdown",
   "metadata": {},
   "source": [
    "### Max depth of 5 model"
   ]
  },
  {
   "cell_type": "code",
   "execution_count": 37,
   "metadata": {},
   "outputs": [],
   "source": [
    "dt5 = DecisionTreeClassifier(max_depth=5, random_state=123)\n",
    "dt5 = dt5.fit(x_train, y_train)\n",
    "y5_pred = dt5.predict(x_train)"
   ]
  },
  {
   "cell_type": "code",
   "execution_count": 38,
   "metadata": {},
   "outputs": [
    {
     "name": "stdout",
     "output_type": "stream",
     "text": [
      "              precision    recall  f1-score   support\n",
      "\n",
      "           0       0.85      0.89      0.87      2897\n",
      "           1       0.65      0.58      0.61      1046\n",
      "\n",
      "    accuracy                           0.81      3943\n",
      "   macro avg       0.75      0.73      0.74      3943\n",
      "weighted avg       0.80      0.81      0.80      3943\n",
      "\n"
     ]
    }
   ],
   "source": [
    "print(classification_report(y_train, y5_pred))"
   ]
  },
  {
   "cell_type": "code",
   "execution_count": 39,
   "metadata": {},
   "outputs": [
    {
     "data": {
      "text/plain": [
       "{'is_female': 0.0,\n",
       " 'senior_citizen': 0.0,\n",
       " 'tenure': 0.15,\n",
       " 'contract_type_id': 0.52,\n",
       " 'paperless_billing': 0.0,\n",
       " 'payment_type_id': 0.03,\n",
       " 'monthly_charges': 0.03,\n",
       " 'total_charges': 0.06,\n",
       " 'years_held': 0.02,\n",
       " 'fam_status_partnered family': 0.0,\n",
       " 'fam_status_single': 0.0,\n",
       " 'fam_status_single family': 0.0,\n",
       " 'phone_lines_None': 0.01,\n",
       " 'phone_lines_One': 0.0,\n",
       " 'online_services_None': 0.0,\n",
       " 'online_services_backup': 0.0,\n",
       " 'online_services_both': 0.0,\n",
       " 'online_services_security': 0.0,\n",
       " 'tech_support_No internet service': 0.02,\n",
       " 'tech_support_Yes': 0.0,\n",
       " 'streaming_None': 0.0,\n",
       " 'streaming_both': 0.01,\n",
       " 'streaming_movies': 0.0,\n",
       " 'streaming_tv': 0.0,\n",
       " 'internet_service_type_Fiber optic': 0.15,\n",
       " 'internet_service_type_None': 0.0}"
      ]
     },
     "execution_count": 39,
     "metadata": {},
     "output_type": "execute_result"
    }
   ],
   "source": [
    "gimme_them_weights(dt5, x_train)"
   ]
  },
  {
   "cell_type": "markdown",
   "metadata": {},
   "source": [
    "### Max depth of 4 model"
   ]
  },
  {
   "cell_type": "code",
   "execution_count": 40,
   "metadata": {},
   "outputs": [],
   "source": [
    "dt4 = DecisionTreeClassifier(max_depth=4, random_state=123)\n",
    "dt4 = dt4.fit(x_train, y_train)\n",
    "y4_pred = dt4.predict(x_train)"
   ]
  },
  {
   "cell_type": "code",
   "execution_count": 41,
   "metadata": {},
   "outputs": [
    {
     "name": "stdout",
     "output_type": "stream",
     "text": [
      "              precision    recall  f1-score   support\n",
      "\n",
      "           0       0.81      0.94      0.87      2897\n",
      "           1       0.70      0.38      0.49      1046\n",
      "\n",
      "    accuracy                           0.79      3943\n",
      "   macro avg       0.75      0.66      0.68      3943\n",
      "weighted avg       0.78      0.79      0.77      3943\n",
      "\n"
     ]
    }
   ],
   "source": [
    "print(classification_report(y_train, y4_pred))"
   ]
  },
  {
   "cell_type": "code",
   "execution_count": 42,
   "metadata": {},
   "outputs": [
    {
     "data": {
      "text/plain": [
       "{'is_female': 0.0,\n",
       " 'senior_citizen': 0.0,\n",
       " 'tenure': 0.04,\n",
       " 'contract_type_id': 0.57,\n",
       " 'paperless_billing': 0.0,\n",
       " 'payment_type_id': 0.03,\n",
       " 'monthly_charges': 0.01,\n",
       " 'total_charges': 0.04,\n",
       " 'years_held': 0.12,\n",
       " 'fam_status_partnered family': 0.0,\n",
       " 'fam_status_single': 0.0,\n",
       " 'fam_status_single family': 0.0,\n",
       " 'phone_lines_None': 0.01,\n",
       " 'phone_lines_One': 0.0,\n",
       " 'online_services_None': 0.01,\n",
       " 'online_services_backup': 0.0,\n",
       " 'online_services_both': 0.0,\n",
       " 'online_services_security': 0.0,\n",
       " 'tech_support_No internet service': 0.02,\n",
       " 'tech_support_Yes': 0.0,\n",
       " 'streaming_None': 0.0,\n",
       " 'streaming_both': 0.0,\n",
       " 'streaming_movies': 0.0,\n",
       " 'streaming_tv': 0.0,\n",
       " 'internet_service_type_Fiber optic': 0.16,\n",
       " 'internet_service_type_None': 0.0}"
      ]
     },
     "execution_count": 42,
     "metadata": {},
     "output_type": "execute_result"
    }
   ],
   "source": [
    "gimme_them_weights(dt4, x_train)"
   ]
  },
  {
   "cell_type": "markdown",
   "metadata": {},
   "source": [
    "## Random Forest Model"
   ]
  },
  {
   "cell_type": "markdown",
   "metadata": {},
   "source": [
    "### Max depth of 5 model"
   ]
  },
  {
   "cell_type": "code",
   "execution_count": 43,
   "metadata": {},
   "outputs": [],
   "source": [
    "rf5 = RandomForestClassifier(max_depth = 5, min_samples_leaf = 2, random_state=123)\n",
    "rf5 = rf5.fit(x_train, y_train)\n",
    "y5_pred = rf5.predict(x_train)"
   ]
  },
  {
   "cell_type": "code",
   "execution_count": 44,
   "metadata": {},
   "outputs": [
    {
     "name": "stdout",
     "output_type": "stream",
     "text": [
      "              precision    recall  f1-score   support\n",
      "\n",
      "           0       0.83      0.93      0.88      2897\n",
      "           1       0.72      0.48      0.58      1046\n",
      "\n",
      "    accuracy                           0.81      3943\n",
      "   macro avg       0.78      0.71      0.73      3943\n",
      "weighted avg       0.80      0.81      0.80      3943\n",
      "\n"
     ]
    }
   ],
   "source": [
    "print(classification_report(y_train, y5_pred))"
   ]
  },
  {
   "cell_type": "code",
   "execution_count": 45,
   "metadata": {},
   "outputs": [
    {
     "data": {
      "text/plain": [
       "{'is_female': 0.0,\n",
       " 'senior_citizen': 0.01,\n",
       " 'tenure': 0.13,\n",
       " 'contract_type_id': 0.17,\n",
       " 'paperless_billing': 0.01,\n",
       " 'payment_type_id': 0.07,\n",
       " 'monthly_charges': 0.09,\n",
       " 'total_charges': 0.06,\n",
       " 'years_held': 0.16,\n",
       " 'fam_status_partnered family': 0.01,\n",
       " 'fam_status_single': 0.0,\n",
       " 'fam_status_single family': 0.0,\n",
       " 'phone_lines_None': 0.0,\n",
       " 'phone_lines_One': 0.01,\n",
       " 'online_services_None': 0.08,\n",
       " 'online_services_backup': 0.01,\n",
       " 'online_services_both': 0.01,\n",
       " 'online_services_security': 0.0,\n",
       " 'tech_support_No internet service': 0.02,\n",
       " 'tech_support_Yes': 0.01,\n",
       " 'streaming_None': 0.0,\n",
       " 'streaming_both': 0.0,\n",
       " 'streaming_movies': 0.0,\n",
       " 'streaming_tv': 0.0,\n",
       " 'internet_service_type_Fiber optic': 0.09,\n",
       " 'internet_service_type_None': 0.03}"
      ]
     },
     "execution_count": 45,
     "metadata": {},
     "output_type": "execute_result"
    }
   ],
   "source": [
    "gimme_them_weights(rf5, x_train)"
   ]
  },
  {
   "cell_type": "markdown",
   "metadata": {},
   "source": [
    "### Max depth of 10 model"
   ]
  },
  {
   "cell_type": "code",
   "execution_count": 46,
   "metadata": {},
   "outputs": [],
   "source": [
    "rf10 = RandomForestClassifier(max_depth = 10, min_samples_leaf = 2, random_state=123)\n",
    "rf10 = rf10.fit(x_train, y_train)\n",
    "y10_pred = rf10.predict(x_train)"
   ]
  },
  {
   "cell_type": "code",
   "execution_count": 47,
   "metadata": {},
   "outputs": [
    {
     "name": "stdout",
     "output_type": "stream",
     "text": [
      "              precision    recall  f1-score   support\n",
      "\n",
      "           0       0.89      0.96      0.92      2897\n",
      "           1       0.86      0.68      0.76      1046\n",
      "\n",
      "    accuracy                           0.89      3943\n",
      "   macro avg       0.87      0.82      0.84      3943\n",
      "weighted avg       0.88      0.89      0.88      3943\n",
      "\n"
     ]
    }
   ],
   "source": [
    "print(classification_report(y_train, y10_pred))"
   ]
  },
  {
   "cell_type": "code",
   "execution_count": 48,
   "metadata": {},
   "outputs": [
    {
     "data": {
      "text/plain": [
       "{'is_female': 0.02,\n",
       " 'senior_citizen': 0.02,\n",
       " 'tenure': 0.12,\n",
       " 'contract_type_id': 0.11,\n",
       " 'paperless_billing': 0.02,\n",
       " 'payment_type_id': 0.06,\n",
       " 'monthly_charges': 0.13,\n",
       " 'total_charges': 0.12,\n",
       " 'years_held': 0.13,\n",
       " 'fam_status_partnered family': 0.01,\n",
       " 'fam_status_single': 0.01,\n",
       " 'fam_status_single family': 0.0,\n",
       " 'phone_lines_None': 0.01,\n",
       " 'phone_lines_One': 0.02,\n",
       " 'online_services_None': 0.05,\n",
       " 'online_services_backup': 0.01,\n",
       " 'online_services_both': 0.01,\n",
       " 'online_services_security': 0.01,\n",
       " 'tech_support_No internet service': 0.01,\n",
       " 'tech_support_Yes': 0.02,\n",
       " 'streaming_None': 0.01,\n",
       " 'streaming_both': 0.01,\n",
       " 'streaming_movies': 0.01,\n",
       " 'streaming_tv': 0.01,\n",
       " 'internet_service_type_Fiber optic': 0.06,\n",
       " 'internet_service_type_None': 0.02}"
      ]
     },
     "execution_count": 48,
     "metadata": {},
     "output_type": "execute_result"
    }
   ],
   "source": [
    "gimme_them_weights(rf10, x_train)"
   ]
  },
  {
   "cell_type": "markdown",
   "metadata": {},
   "source": [
    "### Max depth of 15 model"
   ]
  },
  {
   "cell_type": "code",
   "execution_count": 49,
   "metadata": {},
   "outputs": [],
   "source": [
    "rf15 = RandomForestClassifier(max_depth = 10, min_samples_leaf = 2, random_state=123)\n",
    "rf15 = rf15.fit(x_train, y_train)\n",
    "y15_pred = rf15.predict(x_train)"
   ]
  },
  {
   "cell_type": "code",
   "execution_count": 50,
   "metadata": {},
   "outputs": [
    {
     "name": "stdout",
     "output_type": "stream",
     "text": [
      "              precision    recall  f1-score   support\n",
      "\n",
      "           0       0.89      0.96      0.92      2897\n",
      "           1       0.86      0.68      0.76      1046\n",
      "\n",
      "    accuracy                           0.89      3943\n",
      "   macro avg       0.87      0.82      0.84      3943\n",
      "weighted avg       0.88      0.89      0.88      3943\n",
      "\n"
     ]
    }
   ],
   "source": [
    "print(classification_report(y_train, y15_pred))"
   ]
  },
  {
   "cell_type": "code",
   "execution_count": 51,
   "metadata": {},
   "outputs": [
    {
     "data": {
      "text/plain": [
       "{'is_female': 0.02,\n",
       " 'senior_citizen': 0.02,\n",
       " 'tenure': 0.12,\n",
       " 'contract_type_id': 0.11,\n",
       " 'paperless_billing': 0.02,\n",
       " 'payment_type_id': 0.06,\n",
       " 'monthly_charges': 0.13,\n",
       " 'total_charges': 0.12,\n",
       " 'years_held': 0.13,\n",
       " 'fam_status_partnered family': 0.01,\n",
       " 'fam_status_single': 0.01,\n",
       " 'fam_status_single family': 0.0,\n",
       " 'phone_lines_None': 0.01,\n",
       " 'phone_lines_One': 0.02,\n",
       " 'online_services_None': 0.05,\n",
       " 'online_services_backup': 0.01,\n",
       " 'online_services_both': 0.01,\n",
       " 'online_services_security': 0.01,\n",
       " 'tech_support_No internet service': 0.01,\n",
       " 'tech_support_Yes': 0.02,\n",
       " 'streaming_None': 0.01,\n",
       " 'streaming_both': 0.01,\n",
       " 'streaming_movies': 0.01,\n",
       " 'streaming_tv': 0.01,\n",
       " 'internet_service_type_Fiber optic': 0.06,\n",
       " 'internet_service_type_None': 0.02}"
      ]
     },
     "execution_count": 51,
     "metadata": {},
     "output_type": "execute_result"
    }
   ],
   "source": [
    "gimme_them_weights(rf15, x_train)"
   ]
  },
  {
   "cell_type": "markdown",
   "metadata": {},
   "source": [
    "## KNN Model"
   ]
  },
  {
   "cell_type": "markdown",
   "metadata": {},
   "source": [
    "### 5 neighbor model"
   ]
  },
  {
   "cell_type": "code",
   "execution_count": 52,
   "metadata": {},
   "outputs": [],
   "source": [
    "kn = KNeighborsClassifier(n_neighbors=5, weights='uniform')\n",
    "kn = kn.fit(x_train, y_train)\n",
    "kn_pred = kn.predict(x_train)"
   ]
  },
  {
   "cell_type": "code",
   "execution_count": 53,
   "metadata": {},
   "outputs": [
    {
     "name": "stdout",
     "output_type": "stream",
     "text": [
      "              precision    recall  f1-score   support\n",
      "\n",
      "           0       0.85      0.93      0.89      2897\n",
      "           1       0.73      0.56      0.63      1046\n",
      "\n",
      "    accuracy                           0.83      3943\n",
      "   macro avg       0.79      0.74      0.76      3943\n",
      "weighted avg       0.82      0.83      0.82      3943\n",
      "\n"
     ]
    }
   ],
   "source": [
    "print(classification_report(y_train, kn_pred))"
   ]
  },
  {
   "cell_type": "markdown",
   "metadata": {},
   "source": [
    "### 10 neighbor model"
   ]
  },
  {
   "cell_type": "code",
   "execution_count": 54,
   "metadata": {},
   "outputs": [],
   "source": [
    "kn10 = KNeighborsClassifier(n_neighbors=10, weights='uniform')\n",
    "kn10 = kn10.fit(x_train, y_train)\n",
    "kn10_pred = kn10.predict(x_train)"
   ]
  },
  {
   "cell_type": "code",
   "execution_count": 55,
   "metadata": {},
   "outputs": [
    {
     "name": "stdout",
     "output_type": "stream",
     "text": [
      "              precision    recall  f1-score   support\n",
      "\n",
      "           0       0.82      0.95      0.88      2897\n",
      "           1       0.75      0.41      0.53      1046\n",
      "\n",
      "    accuracy                           0.81      3943\n",
      "   macro avg       0.79      0.68      0.71      3943\n",
      "weighted avg       0.80      0.81      0.79      3943\n",
      "\n"
     ]
    }
   ],
   "source": [
    "print(classification_report(y_train, kn10_pred))"
   ]
  },
  {
   "cell_type": "markdown",
   "metadata": {},
   "source": [
    "## Logistic Regression Model"
   ]
  },
  {
   "cell_type": "markdown",
   "metadata": {},
   "source": [
    "### Function to find coefficients for logistic regression"
   ]
  },
  {
   "cell_type": "code",
   "execution_count": 56,
   "metadata": {},
   "outputs": [],
   "source": [
    "def gimme_them_coef(logit2, x_train):\n",
    "    feat = logit2.coef_[0]\n",
    "    key = x_train.columns.tolist()\n",
    "    val = feat.tolist()\n",
    "    val = [round(num, 2) for num in val]\n",
    "    res = {key[i]: val[i] for i in range(len(key))} \n",
    "    return res"
   ]
  },
  {
   "cell_type": "markdown",
   "metadata": {},
   "source": [
    "### C = 10 model"
   ]
  },
  {
   "cell_type": "code",
   "execution_count": 57,
   "metadata": {},
   "outputs": [
    {
     "name": "stderr",
     "output_type": "stream",
     "text": [
      "/usr/local/anaconda3/lib/python3.8/site-packages/sklearn/linear_model/_logistic.py:762: ConvergenceWarning: lbfgs failed to converge (status=1):\n",
      "STOP: TOTAL NO. of ITERATIONS REACHED LIMIT.\n",
      "\n",
      "Increase the number of iterations (max_iter) or scale the data as shown in:\n",
      "    https://scikit-learn.org/stable/modules/preprocessing.html\n",
      "Please also refer to the documentation for alternative solver options:\n",
      "    https://scikit-learn.org/stable/modules/linear_model.html#logistic-regression\n",
      "  n_iter_i = _check_optimize_result(\n"
     ]
    }
   ],
   "source": [
    "logit2 = LogisticRegression(C=10, random_state=123)\n",
    "logit2 = logit2.fit(x_train, y_train)\n",
    "y_predict = logit2.predict(x_train)"
   ]
  },
  {
   "cell_type": "code",
   "execution_count": 58,
   "metadata": {},
   "outputs": [
    {
     "name": "stdout",
     "output_type": "stream",
     "text": [
      "              precision    recall  f1-score   support\n",
      "\n",
      "           0       0.85      0.90      0.87      2897\n",
      "           1       0.66      0.54      0.60      1046\n",
      "\n",
      "    accuracy                           0.81      3943\n",
      "   macro avg       0.75      0.72      0.73      3943\n",
      "weighted avg       0.80      0.81      0.80      3943\n",
      "\n"
     ]
    }
   ],
   "source": [
    "print(classification_report(y_train, y_predict))"
   ]
  },
  {
   "cell_type": "code",
   "execution_count": 59,
   "metadata": {},
   "outputs": [
    {
     "data": {
      "text/plain": [
       "{'is_female': 0.03,\n",
       " 'senior_citizen': 0.31,\n",
       " 'tenure': -0.06,\n",
       " 'contract_type_id': -0.67,\n",
       " 'paperless_billing': 0.35,\n",
       " 'payment_type_id': -0.14,\n",
       " 'monthly_charges': 0.01,\n",
       " 'total_charges': 0.0,\n",
       " 'years_held': -0.01,\n",
       " 'fam_status_partnered family': -0.21,\n",
       " 'fam_status_single': 0.04,\n",
       " 'fam_status_single family': -0.01,\n",
       " 'phone_lines_None': 0.2,\n",
       " 'phone_lines_One': -0.34,\n",
       " 'online_services_None': 0.32,\n",
       " 'online_services_backup': 0.12,\n",
       " 'online_services_both': -0.23,\n",
       " 'online_services_security': -0.13,\n",
       " 'tech_support_No internet service': -0.14,\n",
       " 'tech_support_Yes': -0.34,\n",
       " 'streaming_None': 0.04,\n",
       " 'streaming_both': 0.1,\n",
       " 'streaming_movies': -0.06,\n",
       " 'streaming_tv': 0.0,\n",
       " 'internet_service_type_Fiber optic': 0.28,\n",
       " 'internet_service_type_None': -0.14}"
      ]
     },
     "execution_count": 59,
     "metadata": {},
     "output_type": "execute_result"
    }
   ],
   "source": [
    "gimme_them_coef(logit2, x_train)"
   ]
  },
  {
   "cell_type": "markdown",
   "metadata": {},
   "source": [
    "### C = 100 model"
   ]
  },
  {
   "cell_type": "code",
   "execution_count": 60,
   "metadata": {},
   "outputs": [],
   "source": [
    "logit2 = LogisticRegression(C=100, random_state=123)\n",
    "logit2 = logit2.fit(x_train, y_train)\n",
    "y_predict = logit2.predict(x_train)"
   ]
  },
  {
   "cell_type": "code",
   "execution_count": 61,
   "metadata": {},
   "outputs": [
    {
     "name": "stdout",
     "output_type": "stream",
     "text": [
      "              precision    recall  f1-score   support\n",
      "\n",
      "           0       0.84      0.90      0.87      2897\n",
      "           1       0.66      0.53      0.59      1046\n",
      "\n",
      "    accuracy                           0.80      3943\n",
      "   macro avg       0.75      0.72      0.73      3943\n",
      "weighted avg       0.79      0.80      0.80      3943\n",
      "\n"
     ]
    }
   ],
   "source": [
    "print(classification_report(y_train, y_predict))"
   ]
  },
  {
   "cell_type": "markdown",
   "metadata": {},
   "source": [
    "## Validate"
   ]
  },
  {
   "cell_type": "markdown",
   "metadata": {},
   "source": [
    "### Decision tree depth = 5"
   ]
  },
  {
   "cell_type": "code",
   "execution_count": 62,
   "metadata": {},
   "outputs": [
    {
     "name": "stdout",
     "output_type": "stream",
     "text": [
      "              precision    recall  f1-score   support\n",
      "\n",
      "           0       0.85      0.87      0.86      1242\n",
      "           1       0.62      0.56      0.59       449\n",
      "\n",
      "    accuracy                           0.79      1691\n",
      "   macro avg       0.73      0.72      0.73      1691\n",
      "weighted avg       0.79      0.79      0.79      1691\n",
      "\n"
     ]
    }
   ],
   "source": [
    "y5_val_pred = dt5.predict(x_validate)\n",
    "print(classification_report(y_validate, y5_val_pred))"
   ]
  },
  {
   "cell_type": "markdown",
   "metadata": {},
   "source": [
    "### Random forest depth = 10"
   ]
  },
  {
   "cell_type": "code",
   "execution_count": 63,
   "metadata": {
    "scrolled": false
   },
   "outputs": [
    {
     "name": "stdout",
     "output_type": "stream",
     "text": [
      "              precision    recall  f1-score   support\n",
      "\n",
      "           0       0.83      0.91      0.87      1242\n",
      "           1       0.67      0.49      0.57       449\n",
      "\n",
      "    accuracy                           0.80      1691\n",
      "   macro avg       0.75      0.70      0.72      1691\n",
      "weighted avg       0.79      0.80      0.79      1691\n",
      "\n"
     ]
    }
   ],
   "source": [
    "y10_val_pred = rf10.predict(x_validate)\n",
    "print(classification_report(y_validate, y10_val_pred))"
   ]
  },
  {
   "cell_type": "markdown",
   "metadata": {},
   "source": [
    "### KNN 5 neighbor"
   ]
  },
  {
   "cell_type": "code",
   "execution_count": 64,
   "metadata": {},
   "outputs": [
    {
     "name": "stdout",
     "output_type": "stream",
     "text": [
      "              precision    recall  f1-score   support\n",
      "\n",
      "           0       0.81      0.88      0.84      1242\n",
      "           1       0.56      0.42      0.48       449\n",
      "\n",
      "    accuracy                           0.76      1691\n",
      "   macro avg       0.68      0.65      0.66      1691\n",
      "weighted avg       0.74      0.76      0.75      1691\n",
      "\n"
     ]
    }
   ],
   "source": [
    "kn_val_pred = kn.predict(x_validate)\n",
    "print(classification_report(y_validate, kn_val_pred))"
   ]
  },
  {
   "cell_type": "markdown",
   "metadata": {},
   "source": [
    "# Test"
   ]
  },
  {
   "cell_type": "markdown",
   "metadata": {},
   "source": [
    "I have decided to run the random forest with a max depth of 10 as it seems to have the best evaluation metrics"
   ]
  },
  {
   "cell_type": "code",
   "execution_count": 65,
   "metadata": {},
   "outputs": [
    {
     "name": "stdout",
     "output_type": "stream",
     "text": [
      "              precision    recall  f1-score   support\n",
      "\n",
      "           0       0.84      0.91      0.87      1035\n",
      "           1       0.67      0.52      0.58       374\n",
      "\n",
      "    accuracy                           0.80      1409\n",
      "   macro avg       0.75      0.71      0.73      1409\n",
      "weighted avg       0.79      0.80      0.79      1409\n",
      "\n"
     ]
    }
   ],
   "source": [
    "y10_test_pred = rf10.predict(x_test)\n",
    "print(classification_report(y_test, y10_test_pred))"
   ]
  },
  {
   "cell_type": "markdown",
   "metadata": {},
   "source": [
    "When compared to the baseline this model is not a lot better, but has some value in predicting churn."
   ]
  },
  {
   "cell_type": "markdown",
   "metadata": {},
   "source": [
    "# Making a prediction.csv"
   ]
  },
  {
   "cell_type": "code",
   "execution_count": 66,
   "metadata": {},
   "outputs": [],
   "source": [
    "y10_proba = rf10.predict_proba(model_telco.drop(columns = ['churn']))"
   ]
  },
  {
   "cell_type": "code",
   "execution_count": 67,
   "metadata": {},
   "outputs": [],
   "source": [
    "y10_pred = rf10.predict(model_telco.drop(columns = ['churn']))"
   ]
  },
  {
   "cell_type": "code",
   "execution_count": 68,
   "metadata": {},
   "outputs": [],
   "source": [
    "y10_pred = pd.DataFrame(y10_pred)"
   ]
  },
  {
   "cell_type": "code",
   "execution_count": 69,
   "metadata": {},
   "outputs": [],
   "source": [
    "y10_proba = pd.DataFrame(y10_proba)"
   ]
  },
  {
   "cell_type": "code",
   "execution_count": 70,
   "metadata": {},
   "outputs": [
    {
     "ename": "KeyError",
     "evalue": "'customer_id'",
     "output_type": "error",
     "traceback": [
      "\u001b[0;31m---------------------------------------------------------------------------\u001b[0m",
      "\u001b[0;31mKeyError\u001b[0m                                  Traceback (most recent call last)",
      "\u001b[0;32m/usr/local/anaconda3/lib/python3.8/site-packages/pandas/core/indexes/base.py\u001b[0m in \u001b[0;36mget_loc\u001b[0;34m(self, key, method, tolerance)\u001b[0m\n\u001b[1;32m   2894\u001b[0m             \u001b[0;32mtry\u001b[0m\u001b[0;34m:\u001b[0m\u001b[0;34m\u001b[0m\u001b[0;34m\u001b[0m\u001b[0m\n\u001b[0;32m-> 2895\u001b[0;31m                 \u001b[0;32mreturn\u001b[0m \u001b[0mself\u001b[0m\u001b[0;34m.\u001b[0m\u001b[0m_engine\u001b[0m\u001b[0;34m.\u001b[0m\u001b[0mget_loc\u001b[0m\u001b[0;34m(\u001b[0m\u001b[0mcasted_key\u001b[0m\u001b[0;34m)\u001b[0m\u001b[0;34m\u001b[0m\u001b[0;34m\u001b[0m\u001b[0m\n\u001b[0m\u001b[1;32m   2896\u001b[0m             \u001b[0;32mexcept\u001b[0m \u001b[0mKeyError\u001b[0m \u001b[0;32mas\u001b[0m \u001b[0merr\u001b[0m\u001b[0;34m:\u001b[0m\u001b[0;34m\u001b[0m\u001b[0;34m\u001b[0m\u001b[0m\n",
      "\u001b[0;32mpandas/_libs/index.pyx\u001b[0m in \u001b[0;36mpandas._libs.index.IndexEngine.get_loc\u001b[0;34m()\u001b[0m\n",
      "\u001b[0;32mpandas/_libs/index.pyx\u001b[0m in \u001b[0;36mpandas._libs.index.IndexEngine.get_loc\u001b[0;34m()\u001b[0m\n",
      "\u001b[0;32mpandas/_libs/hashtable_class_helper.pxi\u001b[0m in \u001b[0;36mpandas._libs.hashtable.PyObjectHashTable.get_item\u001b[0;34m()\u001b[0m\n",
      "\u001b[0;32mpandas/_libs/hashtable_class_helper.pxi\u001b[0m in \u001b[0;36mpandas._libs.hashtable.PyObjectHashTable.get_item\u001b[0;34m()\u001b[0m\n",
      "\u001b[0;31mKeyError\u001b[0m: 'customer_id'",
      "\nThe above exception was the direct cause of the following exception:\n",
      "\u001b[0;31mKeyError\u001b[0m                                  Traceback (most recent call last)",
      "\u001b[0;32m<ipython-input-70-d68c333f6c48>\u001b[0m in \u001b[0;36m<module>\u001b[0;34m\u001b[0m\n\u001b[0;32m----> 1\u001b[0;31m \u001b[0mcustomers\u001b[0m \u001b[0;34m=\u001b[0m \u001b[0mmodel_telco\u001b[0m\u001b[0;34m[\u001b[0m\u001b[0;34m'customer_id'\u001b[0m\u001b[0;34m]\u001b[0m\u001b[0;34m\u001b[0m\u001b[0;34m\u001b[0m\u001b[0m\n\u001b[0m",
      "\u001b[0;32m/usr/local/anaconda3/lib/python3.8/site-packages/pandas/core/frame.py\u001b[0m in \u001b[0;36m__getitem__\u001b[0;34m(self, key)\u001b[0m\n\u001b[1;32m   2900\u001b[0m             \u001b[0;32mif\u001b[0m \u001b[0mself\u001b[0m\u001b[0;34m.\u001b[0m\u001b[0mcolumns\u001b[0m\u001b[0;34m.\u001b[0m\u001b[0mnlevels\u001b[0m \u001b[0;34m>\u001b[0m \u001b[0;36m1\u001b[0m\u001b[0;34m:\u001b[0m\u001b[0;34m\u001b[0m\u001b[0;34m\u001b[0m\u001b[0m\n\u001b[1;32m   2901\u001b[0m                 \u001b[0;32mreturn\u001b[0m \u001b[0mself\u001b[0m\u001b[0;34m.\u001b[0m\u001b[0m_getitem_multilevel\u001b[0m\u001b[0;34m(\u001b[0m\u001b[0mkey\u001b[0m\u001b[0;34m)\u001b[0m\u001b[0;34m\u001b[0m\u001b[0;34m\u001b[0m\u001b[0m\n\u001b[0;32m-> 2902\u001b[0;31m             \u001b[0mindexer\u001b[0m \u001b[0;34m=\u001b[0m \u001b[0mself\u001b[0m\u001b[0;34m.\u001b[0m\u001b[0mcolumns\u001b[0m\u001b[0;34m.\u001b[0m\u001b[0mget_loc\u001b[0m\u001b[0;34m(\u001b[0m\u001b[0mkey\u001b[0m\u001b[0;34m)\u001b[0m\u001b[0;34m\u001b[0m\u001b[0;34m\u001b[0m\u001b[0m\n\u001b[0m\u001b[1;32m   2903\u001b[0m             \u001b[0;32mif\u001b[0m \u001b[0mis_integer\u001b[0m\u001b[0;34m(\u001b[0m\u001b[0mindexer\u001b[0m\u001b[0;34m)\u001b[0m\u001b[0;34m:\u001b[0m\u001b[0;34m\u001b[0m\u001b[0;34m\u001b[0m\u001b[0m\n\u001b[1;32m   2904\u001b[0m                 \u001b[0mindexer\u001b[0m \u001b[0;34m=\u001b[0m \u001b[0;34m[\u001b[0m\u001b[0mindexer\u001b[0m\u001b[0;34m]\u001b[0m\u001b[0;34m\u001b[0m\u001b[0;34m\u001b[0m\u001b[0m\n",
      "\u001b[0;32m/usr/local/anaconda3/lib/python3.8/site-packages/pandas/core/indexes/base.py\u001b[0m in \u001b[0;36mget_loc\u001b[0;34m(self, key, method, tolerance)\u001b[0m\n\u001b[1;32m   2895\u001b[0m                 \u001b[0;32mreturn\u001b[0m \u001b[0mself\u001b[0m\u001b[0;34m.\u001b[0m\u001b[0m_engine\u001b[0m\u001b[0;34m.\u001b[0m\u001b[0mget_loc\u001b[0m\u001b[0;34m(\u001b[0m\u001b[0mcasted_key\u001b[0m\u001b[0;34m)\u001b[0m\u001b[0;34m\u001b[0m\u001b[0;34m\u001b[0m\u001b[0m\n\u001b[1;32m   2896\u001b[0m             \u001b[0;32mexcept\u001b[0m \u001b[0mKeyError\u001b[0m \u001b[0;32mas\u001b[0m \u001b[0merr\u001b[0m\u001b[0;34m:\u001b[0m\u001b[0;34m\u001b[0m\u001b[0;34m\u001b[0m\u001b[0m\n\u001b[0;32m-> 2897\u001b[0;31m                 \u001b[0;32mraise\u001b[0m \u001b[0mKeyError\u001b[0m\u001b[0;34m(\u001b[0m\u001b[0mkey\u001b[0m\u001b[0;34m)\u001b[0m \u001b[0;32mfrom\u001b[0m \u001b[0merr\u001b[0m\u001b[0;34m\u001b[0m\u001b[0;34m\u001b[0m\u001b[0m\n\u001b[0m\u001b[1;32m   2898\u001b[0m \u001b[0;34m\u001b[0m\u001b[0m\n\u001b[1;32m   2899\u001b[0m         \u001b[0;32mif\u001b[0m \u001b[0mtolerance\u001b[0m \u001b[0;32mis\u001b[0m \u001b[0;32mnot\u001b[0m \u001b[0;32mNone\u001b[0m\u001b[0;34m:\u001b[0m\u001b[0;34m\u001b[0m\u001b[0;34m\u001b[0m\u001b[0m\n",
      "\u001b[0;31mKeyError\u001b[0m: 'customer_id'"
     ]
    }
   ],
   "source": [
    "customers = model_telco['customer_id']"
   ]
  },
  {
   "cell_type": "code",
   "execution_count": null,
   "metadata": {},
   "outputs": [],
   "source": [
    "bleh = pd.concat([customers, y10_proba, y10_pred], axis = 1)"
   ]
  },
  {
   "cell_type": "code",
   "execution_count": null,
   "metadata": {},
   "outputs": [],
   "source": [
    "bleh.drop(bleh.columns[1], axis=1, inplace = True)"
   ]
  },
  {
   "cell_type": "code",
   "execution_count": null,
   "metadata": {},
   "outputs": [],
   "source": [
    "bleh = pd.concat([bleh, y10_pred], axis = 1)"
   ]
  },
  {
   "cell_type": "code",
   "execution_count": null,
   "metadata": {},
   "outputs": [],
   "source": [
    "bleh.rename(columns = {0: 'prediction'}, inplace = True)"
   ]
  },
  {
   "cell_type": "code",
   "execution_count": null,
   "metadata": {},
   "outputs": [],
   "source": [
    "bleh.rename(columns = {1: 'probability'}, inplace = True)"
   ]
  },
  {
   "cell_type": "code",
   "execution_count": null,
   "metadata": {},
   "outputs": [],
   "source": [
    "# bleh.to_csv(\"predictions.csv\")"
   ]
  },
  {
   "cell_type": "markdown",
   "metadata": {},
   "source": [
    "## Data dictionary making"
   ]
  },
  {
   "cell_type": "code",
   "execution_count": 74,
   "metadata": {},
   "outputs": [],
   "source": [
    "telco = get_telco_data()\n",
    "clean_telco(telco)"
   ]
  },
  {
   "cell_type": "code",
   "execution_count": 90,
   "metadata": {},
   "outputs": [],
   "source": [
    "data_dictionary = pd.DataFrame(index = telco.columns, columns=['type', 'description'])\n",
    "for name in telco.columns:\n",
    "    data_dictionary.loc[name,'type'] = 'object'"
   ]
  },
  {
   "cell_type": "code",
   "execution_count": 94,
   "metadata": {},
   "outputs": [],
   "source": [
    "data_dictionary.loc[['is_female', 'senior_citizen', 'tenure', 'contract_type_id', 'paperless_billing',\n",
    "                     'payment_type_id', 'churn'], 'type'] = 'int64'\n",
    "data_dictionary.loc[['monthly_charges', 'total_charges', 'years_held'], 'type'] = 'float64'"
   ]
  },
  {
   "cell_type": "code",
   "execution_count": 95,
   "metadata": {},
   "outputs": [
    {
     "name": "stdout",
     "output_type": "stream",
     "text": [
      "<class 'pandas.core.frame.DataFrame'>\n",
      "RangeIndex: 7043 entries, 0 to 7042\n",
      "Data columns (total 17 columns):\n",
      " #   Column                 Non-Null Count  Dtype  \n",
      "---  ------                 --------------  -----  \n",
      " 0   customer_id            7043 non-null   object \n",
      " 1   is_female              7043 non-null   int64  \n",
      " 2   senior_citizen         7043 non-null   int64  \n",
      " 3   fam_status             7043 non-null   object \n",
      " 4   tenure                 7043 non-null   int64  \n",
      " 5   phone_lines            7043 non-null   object \n",
      " 6   online_services        7043 non-null   object \n",
      " 7   tech_support           7043 non-null   object \n",
      " 8   streaming              7043 non-null   object \n",
      " 9   contract_type_id       7043 non-null   int64  \n",
      " 10  paperless_billing      7043 non-null   int64  \n",
      " 11  payment_type_id        7043 non-null   int64  \n",
      " 12  monthly_charges        7043 non-null   float64\n",
      " 13  total_charges          7043 non-null   float64\n",
      " 14  churn                  7043 non-null   int64  \n",
      " 15  internet_service_type  7043 non-null   object \n",
      " 16  years_held             7043 non-null   float64\n",
      "dtypes: float64(3), int64(7), object(7)\n",
      "memory usage: 935.5+ KB\n"
     ]
    }
   ],
   "source": [
    "telco.info()"
   ]
  },
  {
   "cell_type": "code",
   "execution_count": 101,
   "metadata": {},
   "outputs": [
    {
     "data": {
      "text/html": [
       "<div>\n",
       "<style scoped>\n",
       "    .dataframe tbody tr th:only-of-type {\n",
       "        vertical-align: middle;\n",
       "    }\n",
       "\n",
       "    .dataframe tbody tr th {\n",
       "        vertical-align: top;\n",
       "    }\n",
       "\n",
       "    .dataframe thead th {\n",
       "        text-align: right;\n",
       "    }\n",
       "</style>\n",
       "<table border=\"1\" class=\"dataframe\">\n",
       "  <thead>\n",
       "    <tr style=\"text-align: right;\">\n",
       "      <th></th>\n",
       "      <th>type</th>\n",
       "      <th>description</th>\n",
       "    </tr>\n",
       "  </thead>\n",
       "  <tbody>\n",
       "    <tr>\n",
       "      <th>customer_id</th>\n",
       "      <td>object</td>\n",
       "      <td>The customers unique ID</td>\n",
       "    </tr>\n",
       "    <tr>\n",
       "      <th>is_female</th>\n",
       "      <td>int64</td>\n",
       "      <td>The customers gender</td>\n",
       "    </tr>\n",
       "    <tr>\n",
       "      <th>senior_citizen</th>\n",
       "      <td>int64</td>\n",
       "      <td>Whethe or not the customer falls under the description \"senior citizen\"</td>\n",
       "    </tr>\n",
       "    <tr>\n",
       "      <th>fam_status</th>\n",
       "      <td>object</td>\n",
       "      <td>Whether or not the customer is partnered or has children</td>\n",
       "    </tr>\n",
       "    <tr>\n",
       "      <th>tenure</th>\n",
       "      <td>int64</td>\n",
       "      <td>How many months the customer has been with Telco</td>\n",
       "    </tr>\n",
       "    <tr>\n",
       "      <th>phone_lines</th>\n",
       "      <td>object</td>\n",
       "      <td>How many phone lines the customer has</td>\n",
       "    </tr>\n",
       "    <tr>\n",
       "      <th>online_services</th>\n",
       "      <td>object</td>\n",
       "      <td>Whether or not the customer has online backup or security</td>\n",
       "    </tr>\n",
       "    <tr>\n",
       "      <th>tech_support</th>\n",
       "      <td>object</td>\n",
       "      <td>Whether or no the customer has tech support</td>\n",
       "    </tr>\n",
       "    <tr>\n",
       "      <th>streaming</th>\n",
       "      <td>object</td>\n",
       "      <td>Whether or not the customer streams movies or tv</td>\n",
       "    </tr>\n",
       "    <tr>\n",
       "      <th>contract_type_id</th>\n",
       "      <td>int64</td>\n",
       "      <td>How the customer is signed up for billing</td>\n",
       "    </tr>\n",
       "    <tr>\n",
       "      <th>paperless_billing</th>\n",
       "      <td>int64</td>\n",
       "      <td>Whether the customer is mailed bills or not</td>\n",
       "    </tr>\n",
       "    <tr>\n",
       "      <th>payment_type_id</th>\n",
       "      <td>int64</td>\n",
       "      <td>How the customer pays their bill</td>\n",
       "    </tr>\n",
       "    <tr>\n",
       "      <th>monthly_charges</th>\n",
       "      <td>float64</td>\n",
       "      <td>How much the customer is charged per month</td>\n",
       "    </tr>\n",
       "    <tr>\n",
       "      <th>total_charges</th>\n",
       "      <td>float64</td>\n",
       "      <td>Total charges during the customers time with Telco</td>\n",
       "    </tr>\n",
       "    <tr>\n",
       "      <th>churn</th>\n",
       "      <td>int64</td>\n",
       "      <td>Whether the customer is still with Telco or not</td>\n",
       "    </tr>\n",
       "    <tr>\n",
       "      <th>internet_service_type</th>\n",
       "      <td>object</td>\n",
       "      <td>Whether the customer has Fiber, DSL, or no internet</td>\n",
       "    </tr>\n",
       "    <tr>\n",
       "      <th>years_held</th>\n",
       "      <td>float64</td>\n",
       "      <td>Years the customer has been with Telco</td>\n",
       "    </tr>\n",
       "  </tbody>\n",
       "</table>\n",
       "</div>"
      ],
      "text/plain": [
       "                          type  \\\n",
       "customer_id             object   \n",
       "is_female                int64   \n",
       "senior_citizen           int64   \n",
       "fam_status              object   \n",
       "tenure                   int64   \n",
       "phone_lines             object   \n",
       "online_services         object   \n",
       "tech_support            object   \n",
       "streaming               object   \n",
       "contract_type_id         int64   \n",
       "paperless_billing        int64   \n",
       "payment_type_id          int64   \n",
       "monthly_charges        float64   \n",
       "total_charges          float64   \n",
       "churn                    int64   \n",
       "internet_service_type   object   \n",
       "years_held             float64   \n",
       "\n",
       "                                                                                   description  \n",
       "customer_id                                                            The customers unique ID  \n",
       "is_female                                                                 The customers gender  \n",
       "senior_citizen         Whethe or not the customer falls under the description \"senior citizen\"  \n",
       "fam_status                            Whether or not the customer is partnered or has children  \n",
       "tenure                                        How many months the customer has been with Telco  \n",
       "phone_lines                                              How many phone lines the customer has  \n",
       "online_services                      Whether or not the customer has online backup or security  \n",
       "tech_support                                       Whether or no the customer has tech support  \n",
       "streaming                                     Whether or not the customer streams movies or tv  \n",
       "contract_type_id                                     How the customer is signed up for billing  \n",
       "paperless_billing                                  Whether the customer is mailed bills or not  \n",
       "payment_type_id                                               How the customer pays their bill  \n",
       "monthly_charges                                     How much the customer is charged per month  \n",
       "total_charges                               Total charges during the customers time with Telco  \n",
       "churn                                          Whether the customer is still with Telco or not  \n",
       "internet_service_type                      Whether the customer has Fiber, DSL, or no internet  \n",
       "years_held                                              Years the customer has been with Telco  "
      ]
     },
     "execution_count": 101,
     "metadata": {},
     "output_type": "execute_result"
    }
   ],
   "source": [
    "data_dictionary"
   ]
  },
  {
   "cell_type": "code",
   "execution_count": 100,
   "metadata": {},
   "outputs": [],
   "source": [
    "data_dictionary.loc[['customer_id'], 'description'] = 'The customers unique ID'\n",
    "data_dictionary.loc[['is_female'], 'description'] = 'The customers gender'\n",
    "data_dictionary.loc[['senior_citizen'], 'description'] = 'Whethe or not the customer falls under the description \\\"senior citizen\\\"'\n",
    "data_dictionary.loc[['fam_status'], 'description'] = 'Whether or not the customer is partnered or has children'\n",
    "data_dictionary.loc[['tenure'], 'description'] = 'How many months the customer has been with Telco'\n",
    "data_dictionary.loc[['phone_lines'], 'description'] = 'How many phone lines the customer has'\n",
    "data_dictionary.loc[['online_services'], 'description'] = 'Whether or not the customer has online backup or security'\n",
    "data_dictionary.loc[['tech_support'], 'description'] = 'Whether or no the customer has tech support'\n",
    "data_dictionary.loc[['streaming'], 'description'] = 'Whether or not the customer streams movies or tv'\n",
    "data_dictionary.loc[['contract_type_id'], 'description'] = 'How the customer is signed up for billing'\n",
    "data_dictionary.loc[['paperless_billing'], 'description'] = 'Whether the customer is mailed bills or not'\n",
    "data_dictionary.loc[['payment_type_id'], 'description'] = 'How the customer pays their bill'\n",
    "data_dictionary.loc[['monthly_charges'], 'description'] = 'How much the customer is charged per month'\n",
    "data_dictionary.loc[['total_charges'], 'description'] = 'Total charges during the customers time with Telco'\n",
    "data_dictionary.loc[['churn'], 'description'] = 'Whether the customer is still with Telco or not'\n",
    "data_dictionary.loc[['internet_service_type'], 'description'] = 'Whether the customer has Fiber, DSL, or no internet'\n",
    "data_dictionary.loc[['years_held'], 'description'] = 'Years the customer has been with Telco'"
   ]
  },
  {
   "cell_type": "code",
   "execution_count": 106,
   "metadata": {},
   "outputs": [
    {
     "name": "stdout",
     "output_type": "stream",
     "text": [
      "|                       | type    | description                                                             |\n",
      "|:----------------------|:--------|:------------------------------------------------------------------------|\n",
      "| customer_id           | object  | The customers unique ID                                                 |\n",
      "| is_female             | int64   | The customers gender                                                    |\n",
      "| senior_citizen        | int64   | Whethe or not the customer falls under the description \"senior citizen\" |\n",
      "| fam_status            | object  | Whether or not the customer is partnered or has children                |\n",
      "| tenure                | int64   | How many months the customer has been with Telco                        |\n",
      "| phone_lines           | object  | How many phone lines the customer has                                   |\n",
      "| online_services       | object  | Whether or not the customer has online backup or security               |\n",
      "| tech_support          | object  | Whether or no the customer has tech support                             |\n",
      "| streaming             | object  | Whether or not the customer streams movies or tv                        |\n",
      "| contract_type_id      | int64   | How the customer is signed up for billing                               |\n",
      "| paperless_billing     | int64   | Whether the customer is mailed bills or not                             |\n",
      "| payment_type_id       | int64   | How the customer pays their bill                                        |\n",
      "| monthly_charges       | float64 | How much the customer is charged per month                              |\n",
      "| total_charges         | float64 | Total charges during the customers time with Telco                      |\n",
      "| churn                 | int64   | Whether the customer is still with Telco or not                         |\n",
      "| internet_service_type | object  | Whether the customer has Fiber, DSL, or no internet                     |\n",
      "| years_held            | float64 | Years the customer has been with Telco                                  |\n"
     ]
    }
   ],
   "source": [
    "print(data_dictionary.to_markdown())"
   ]
  },
  {
   "cell_type": "code",
   "execution_count": null,
   "metadata": {},
   "outputs": [],
   "source": []
  }
 ],
 "metadata": {
  "kernelspec": {
   "display_name": "Python 3",
   "language": "python",
   "name": "python3"
  },
  "language_info": {
   "codemirror_mode": {
    "name": "ipython",
    "version": 3
   },
   "file_extension": ".py",
   "mimetype": "text/x-python",
   "name": "python",
   "nbconvert_exporter": "python",
   "pygments_lexer": "ipython3",
   "version": "3.8.5"
  }
 },
 "nbformat": 4,
 "nbformat_minor": 4
}
